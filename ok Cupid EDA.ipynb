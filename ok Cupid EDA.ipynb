{
 "cells": [
  {
   "cell_type": "markdown",
   "id": "ed73f876",
   "metadata": {
    "papermill": {
     "duration": 0.017193,
     "end_time": "2023-05-04T17:12:29.733193",
     "exception": false,
     "start_time": "2023-05-04T17:12:29.716000",
     "status": "completed"
    },
    "tags": []
   },
   "source": [
    "# OK Cupid. Clustering Users With Unsupervised Learning\n",
    "\n",
    "The purpose of the project is to make clustering with the users of the dataset, trying to find people similar to a particular user. The outcome should be a list of people with affinity with one particular user.\n",
    "\n",
    "First of all, we need to gain insight about the dataset 'profiles.csv' provided by Codecademy.\n",
    "The steps to do that as are follows:\n",
    "* Perform EDA (Exploratory Data Analysis)\n",
    "* Perform data wrangling, cleaning and tyding\n",
    "* Try to answer some questions, make predictions using ML techniques\n",
    "\n",
    "\n",
    "\n",
    "Let's go!"
   ]
  },
  {
   "cell_type": "markdown",
   "id": "2ba866ce",
   "metadata": {
    "papermill": {
     "duration": 0.014814,
     "end_time": "2023-05-04T17:12:29.763045",
     "exception": false,
     "start_time": "2023-05-04T17:12:29.748231",
     "status": "completed"
    },
    "tags": []
   },
   "source": [
    "# Lessons learned\n",
    "\n",
    "* It is difficult to cope with the lack of data. Example: People that do not declare income: 81%\n",
    "* It has been decided to fill missing values in the features of interest, usually with the median value of the column.\n",
    "* Moreover, I have decided to group values in some features in a few choices. For example, body_type has been reduced from 12 to just 3 values. This can produce a lack of accuracy.\n",
    "* I have not considered several features: income and offspring (due to missing data in most of the users), ethnicity (not transformable in numerical data), sign, location, etc. Also, it is possible to improve the clustering applying NLP to text columns (essay0-essay9) And so the model could be further improved taking into account these features. "
   ]
  },
  {
   "cell_type": "markdown",
   "id": "d4b37852",
   "metadata": {
    "papermill": {
     "duration": 0.016169,
     "end_time": "2023-05-04T17:12:29.795622",
     "exception": false,
     "start_time": "2023-05-04T17:12:29.779453",
     "status": "completed"
    },
    "tags": []
   },
   "source": [
    "## Import necessary modules"
   ]
  },
  {
   "cell_type": "code",
   "execution_count": 10,
   "id": "0e5704b7",
   "metadata": {
    "execution": {
     "iopub.execute_input": "2023-05-04T17:12:29.834582Z",
     "iopub.status.busy": "2023-05-04T17:12:29.834074Z",
     "iopub.status.idle": "2023-05-04T17:12:31.087602Z",
     "shell.execute_reply": "2023-05-04T17:12:31.086576Z"
    },
    "papermill": {
     "duration": 1.276176,
     "end_time": "2023-05-04T17:12:31.090131",
     "exception": false,
     "start_time": "2023-05-04T17:12:29.813955",
     "status": "completed"
    },
    "scrolled": true,
    "tags": []
   },
   "outputs": [],
   "source": [
    "from pprint import pprint\n",
    "import numpy as np\n",
    "import re\n",
    "import pandas as pd\n",
    "from pandas.api.types import CategoricalDtype\n",
    "import matplotlib.pyplot as plt\n",
    "import seaborn as sns\n",
    "\n",
    "\n",
    "import plotly.express as px\n",
    "import plotly.graph_objects as go"
   ]
  },
  {
   "cell_type": "markdown",
   "id": "b34b39bc",
   "metadata": {
    "papermill": {
     "duration": 0.01466,
     "end_time": "2023-05-04T17:12:31.120108",
     "exception": false,
     "start_time": "2023-05-04T17:12:31.105448",
     "status": "completed"
    },
    "tags": []
   },
   "source": [
    "## EDA"
   ]
  },
  {
   "cell_type": "code",
   "execution_count": 2,
   "id": "1b69a6df",
   "metadata": {
    "execution": {
     "iopub.execute_input": "2023-05-04T17:12:31.152290Z",
     "iopub.status.busy": "2023-05-04T17:12:31.151420Z",
     "iopub.status.idle": "2023-05-04T17:12:35.151199Z",
     "shell.execute_reply": "2023-05-04T17:12:35.149583Z"
    },
    "papermill": {
     "duration": 4.018345,
     "end_time": "2023-05-04T17:12:35.153493",
     "exception": false,
     "start_time": "2023-05-04T17:12:31.135148",
     "status": "completed"
    },
    "scrolled": true,
    "tags": []
   },
   "outputs": [
    {
     "name": "stdout",
     "output_type": "stream",
     "text": [
      "<class 'pandas.core.frame.DataFrame'>\n",
      "RangeIndex: 59946 entries, 0 to 59945\n",
      "Data columns (total 31 columns):\n",
      " #   Column       Non-Null Count  Dtype  \n",
      "---  ------       --------------  -----  \n",
      " 0   age          59946 non-null  int64  \n",
      " 1   status       59946 non-null  object \n",
      " 2   sex          59946 non-null  object \n",
      " 3   orientation  59946 non-null  object \n",
      " 4   body_type    54650 non-null  object \n",
      " 5   diet         35551 non-null  object \n",
      " 6   drinks       56961 non-null  object \n",
      " 7   drugs        45866 non-null  object \n",
      " 8   education    53318 non-null  object \n",
      " 9   ethnicity    54266 non-null  object \n",
      " 10  height       59943 non-null  float64\n",
      " 11  income       59946 non-null  int64  \n",
      " 12  job          51748 non-null  object \n",
      " 13  last_online  59946 non-null  object \n",
      " 14  location     59946 non-null  object \n",
      " 15  offspring    24385 non-null  object \n",
      " 16  pets         40025 non-null  object \n",
      " 17  religion     39720 non-null  object \n",
      " 18  sign         48890 non-null  object \n",
      " 19  smokes       54434 non-null  object \n",
      " 20  speaks       59896 non-null  object \n",
      " 21  essay0       54458 non-null  object \n",
      " 22  essay1       52374 non-null  object \n",
      " 23  essay2       50308 non-null  object \n",
      " 24  essay3       48470 non-null  object \n",
      " 25  essay4       49409 non-null  object \n",
      " 26  essay5       49096 non-null  object \n",
      " 27  essay6       46175 non-null  object \n",
      " 28  essay7       47495 non-null  object \n",
      " 29  essay8       40721 non-null  object \n",
      " 30  essay9       47343 non-null  object \n",
      "dtypes: float64(1), int64(2), object(28)\n",
      "memory usage: 14.2+ MB\n"
     ]
    }
   ],
   "source": [
    "profiles = pd.read_csv('./okcupid_profiles.csv')\n",
    "profiles.info()"
   ]
  },
  {
   "cell_type": "markdown",
   "id": "498fd38f",
   "metadata": {
    "papermill": {
     "duration": 0.015311,
     "end_time": "2023-05-04T17:12:35.184354",
     "exception": false,
     "start_time": "2023-05-04T17:12:35.169043",
     "status": "completed"
    },
    "tags": []
   },
   "source": [
    "## Data wrangling and tyding"
   ]
  },
  {
   "cell_type": "markdown",
   "id": "082dccf3",
   "metadata": {
    "papermill": {
     "duration": 0.014692,
     "end_time": "2023-05-04T17:12:35.214113",
     "exception": false,
     "start_time": "2023-05-04T17:12:35.199421",
     "status": "completed"
    },
    "tags": []
   },
   "source": [
    "We can now transform some columns into (ordered) Categorical data, in order to have numerical values. \n",
    "\n",
    "It seems a good idea to copy the data into a new DataFrame. In this way we can have the original data even though we modify the dataset."
   ]
  },
  {
   "cell_type": "code",
   "execution_count": 3,
   "id": "adaa2505",
   "metadata": {
    "execution": {
     "iopub.execute_input": "2023-05-04T17:12:35.245930Z",
     "iopub.status.busy": "2023-05-04T17:12:35.245191Z",
     "iopub.status.idle": "2023-05-04T17:12:35.280563Z",
     "shell.execute_reply": "2023-05-04T17:12:35.279506Z"
    },
    "papermill": {
     "duration": 0.054008,
     "end_time": "2023-05-04T17:12:35.283047",
     "exception": false,
     "start_time": "2023-05-04T17:12:35.229039",
     "status": "completed"
    },
    "scrolled": true,
    "tags": []
   },
   "outputs": [],
   "source": [
    "df = profiles.copy()"
   ]
  },
  {
   "cell_type": "code",
   "execution_count": 4,
   "id": "9726c1a7",
   "metadata": {
    "execution": {
     "iopub.execute_input": "2023-05-04T17:12:35.315209Z",
     "iopub.status.busy": "2023-05-04T17:12:35.314862Z",
     "iopub.status.idle": "2023-05-04T17:12:35.371392Z",
     "shell.execute_reply": "2023-05-04T17:12:35.370457Z"
    },
    "papermill": {
     "duration": 0.075613,
     "end_time": "2023-05-04T17:12:35.373988",
     "exception": false,
     "start_time": "2023-05-04T17:12:35.298375",
     "status": "completed"
    },
    "scrolled": true,
    "tags": []
   },
   "outputs": [],
   "source": [
    "# Convert inches to cm\n",
    "df.height = df.height.apply(lambda x: round(x * 2.54, 0))"
   ]
  },
  {
   "cell_type": "code",
   "execution_count": 5,
   "id": "d0113416",
   "metadata": {
    "execution": {
     "iopub.execute_input": "2023-05-04T17:12:35.406096Z",
     "iopub.status.busy": "2023-05-04T17:12:35.405431Z",
     "iopub.status.idle": "2023-05-04T17:12:35.445339Z",
     "shell.execute_reply": "2023-05-04T17:12:35.444579Z"
    },
    "papermill": {
     "duration": 0.057957,
     "end_time": "2023-05-04T17:12:35.447184",
     "exception": false,
     "start_time": "2023-05-04T17:12:35.389227",
     "status": "completed"
    },
    "scrolled": true,
    "tags": []
   },
   "outputs": [
    {
     "data": {
      "text/html": [
       "<div>\n",
       "<style scoped>\n",
       "    .dataframe tbody tr th:only-of-type {\n",
       "        vertical-align: middle;\n",
       "    }\n",
       "\n",
       "    .dataframe tbody tr th {\n",
       "        vertical-align: top;\n",
       "    }\n",
       "\n",
       "    .dataframe thead th {\n",
       "        text-align: right;\n",
       "    }\n",
       "</style>\n",
       "<table border=\"1\" class=\"dataframe\">\n",
       "  <thead>\n",
       "    <tr style=\"text-align: right;\">\n",
       "      <th></th>\n",
       "      <th>age</th>\n",
       "      <th>height</th>\n",
       "      <th>income</th>\n",
       "    </tr>\n",
       "  </thead>\n",
       "  <tbody>\n",
       "    <tr>\n",
       "      <th>count</th>\n",
       "      <td>59946.000000</td>\n",
       "      <td>59943.00000</td>\n",
       "      <td>59946.000000</td>\n",
       "    </tr>\n",
       "    <tr>\n",
       "      <th>mean</th>\n",
       "      <td>32.340290</td>\n",
       "      <td>173.45997</td>\n",
       "      <td>20033.222534</td>\n",
       "    </tr>\n",
       "    <tr>\n",
       "      <th>std</th>\n",
       "      <td>9.452779</td>\n",
       "      <td>10.10919</td>\n",
       "      <td>97346.192104</td>\n",
       "    </tr>\n",
       "    <tr>\n",
       "      <th>min</th>\n",
       "      <td>18.000000</td>\n",
       "      <td>3.00000</td>\n",
       "      <td>-1.000000</td>\n",
       "    </tr>\n",
       "    <tr>\n",
       "      <th>25%</th>\n",
       "      <td>26.000000</td>\n",
       "      <td>168.00000</td>\n",
       "      <td>-1.000000</td>\n",
       "    </tr>\n",
       "    <tr>\n",
       "      <th>50%</th>\n",
       "      <td>30.000000</td>\n",
       "      <td>173.00000</td>\n",
       "      <td>-1.000000</td>\n",
       "    </tr>\n",
       "    <tr>\n",
       "      <th>75%</th>\n",
       "      <td>37.000000</td>\n",
       "      <td>180.00000</td>\n",
       "      <td>-1.000000</td>\n",
       "    </tr>\n",
       "    <tr>\n",
       "      <th>max</th>\n",
       "      <td>110.000000</td>\n",
       "      <td>241.00000</td>\n",
       "      <td>1000000.000000</td>\n",
       "    </tr>\n",
       "  </tbody>\n",
       "</table>\n",
       "</div>"
      ],
      "text/plain": [
       "                age       height          income\n",
       "count  59946.000000  59943.00000    59946.000000\n",
       "mean      32.340290    173.45997    20033.222534\n",
       "std        9.452779     10.10919    97346.192104\n",
       "min       18.000000      3.00000       -1.000000\n",
       "25%       26.000000    168.00000       -1.000000\n",
       "50%       30.000000    173.00000       -1.000000\n",
       "75%       37.000000    180.00000       -1.000000\n",
       "max      110.000000    241.00000  1000000.000000"
      ]
     },
     "execution_count": 5,
     "metadata": {},
     "output_type": "execute_result"
    }
   ],
   "source": [
    "df.describe()"
   ]
  },
  {
   "cell_type": "code",
   "execution_count": 14,
   "id": "8b136465",
   "metadata": {},
   "outputs": [
    {
     "data": {
      "text/html": [
       "<div>\n",
       "<style scoped>\n",
       "    .dataframe tbody tr th:only-of-type {\n",
       "        vertical-align: middle;\n",
       "    }\n",
       "\n",
       "    .dataframe tbody tr th {\n",
       "        vertical-align: top;\n",
       "    }\n",
       "\n",
       "    .dataframe thead th {\n",
       "        text-align: right;\n",
       "    }\n",
       "</style>\n",
       "<table border=\"1\" class=\"dataframe\">\n",
       "  <thead>\n",
       "    <tr style=\"text-align: right;\">\n",
       "      <th></th>\n",
       "      <th>age</th>\n",
       "      <th>status</th>\n",
       "      <th>sex</th>\n",
       "      <th>orientation</th>\n",
       "      <th>body_type</th>\n",
       "      <th>diet</th>\n",
       "      <th>drinks</th>\n",
       "      <th>drugs</th>\n",
       "      <th>education</th>\n",
       "      <th>ethnicity</th>\n",
       "      <th>...</th>\n",
       "      <th>essay0</th>\n",
       "      <th>essay1</th>\n",
       "      <th>essay2</th>\n",
       "      <th>essay3</th>\n",
       "      <th>essay4</th>\n",
       "      <th>essay5</th>\n",
       "      <th>essay6</th>\n",
       "      <th>essay7</th>\n",
       "      <th>essay8</th>\n",
       "      <th>essay9</th>\n",
       "    </tr>\n",
       "  </thead>\n",
       "  <tbody>\n",
       "    <tr>\n",
       "      <th>0</th>\n",
       "      <td>22</td>\n",
       "      <td>single</td>\n",
       "      <td>m</td>\n",
       "      <td>straight</td>\n",
       "      <td>a little extra</td>\n",
       "      <td>strictly anything</td>\n",
       "      <td>socially</td>\n",
       "      <td>never</td>\n",
       "      <td>working on college/university</td>\n",
       "      <td>asian, white</td>\n",
       "      <td>...</td>\n",
       "      <td>about me:  i would love to think that i was so...</td>\n",
       "      <td>currently working as an international agent fo...</td>\n",
       "      <td>making people laugh. ranting about a good salt...</td>\n",
       "      <td>the way i look. i am a six foot half asian, ha...</td>\n",
       "      <td>books: absurdistan, the republic, of mice and ...</td>\n",
       "      <td>food. water. cell phone. shelter.</td>\n",
       "      <td>duality and humorous things</td>\n",
       "      <td>trying to find someone to hang out with. i am ...</td>\n",
       "      <td>i am new to california and looking for someone...</td>\n",
       "      <td>you want to be swept off your feet! you are ti...</td>\n",
       "    </tr>\n",
       "    <tr>\n",
       "      <th>1</th>\n",
       "      <td>35</td>\n",
       "      <td>single</td>\n",
       "      <td>m</td>\n",
       "      <td>straight</td>\n",
       "      <td>average</td>\n",
       "      <td>mostly other</td>\n",
       "      <td>often</td>\n",
       "      <td>sometimes</td>\n",
       "      <td>working on space camp</td>\n",
       "      <td>white</td>\n",
       "      <td>...</td>\n",
       "      <td>i am a chef: this is what that means. 1. i am ...</td>\n",
       "      <td>dedicating everyday to being an unbelievable b...</td>\n",
       "      <td>being silly. having ridiculous amonts of fun w...</td>\n",
       "      <td>NaN</td>\n",
       "      <td>i am die hard christopher moore fan. i don't r...</td>\n",
       "      <td>delicious porkness in all of its glories. my b...</td>\n",
       "      <td>NaN</td>\n",
       "      <td>NaN</td>\n",
       "      <td>i am very open and will share just about anyth...</td>\n",
       "      <td>NaN</td>\n",
       "    </tr>\n",
       "    <tr>\n",
       "      <th>2</th>\n",
       "      <td>38</td>\n",
       "      <td>available</td>\n",
       "      <td>m</td>\n",
       "      <td>straight</td>\n",
       "      <td>thin</td>\n",
       "      <td>anything</td>\n",
       "      <td>socially</td>\n",
       "      <td>NaN</td>\n",
       "      <td>graduated from masters program</td>\n",
       "      <td>NaN</td>\n",
       "      <td>...</td>\n",
       "      <td>i'm not ashamed of much, but writing public te...</td>\n",
       "      <td>i make nerdy software for musicians, artists, ...</td>\n",
       "      <td>improvising in different contexts. alternating...</td>\n",
       "      <td>my large jaw and large glasses are the physica...</td>\n",
       "      <td>okay this is where the cultural matrix gets so...</td>\n",
       "      <td>movement conversation creation contemplation t...</td>\n",
       "      <td>NaN</td>\n",
       "      <td>viewing. listening. dancing. talking. drinking...</td>\n",
       "      <td>when i was five years old, i was known as \"the...</td>\n",
       "      <td>you are bright, open, intense, silly, ironic, ...</td>\n",
       "    </tr>\n",
       "    <tr>\n",
       "      <th>3</th>\n",
       "      <td>23</td>\n",
       "      <td>single</td>\n",
       "      <td>m</td>\n",
       "      <td>straight</td>\n",
       "      <td>thin</td>\n",
       "      <td>vegetarian</td>\n",
       "      <td>socially</td>\n",
       "      <td>NaN</td>\n",
       "      <td>working on college/university</td>\n",
       "      <td>white</td>\n",
       "      <td>...</td>\n",
       "      <td>i work in a library and go to school. . .</td>\n",
       "      <td>reading things written by old dead people</td>\n",
       "      <td>playing synthesizers and organizing books acco...</td>\n",
       "      <td>socially awkward but i do my best</td>\n",
       "      <td>bataille, celine, beckett. . . lynch, jarmusch...</td>\n",
       "      <td>NaN</td>\n",
       "      <td>cats and german philosophy</td>\n",
       "      <td>NaN</td>\n",
       "      <td>NaN</td>\n",
       "      <td>you feel so inclined.</td>\n",
       "    </tr>\n",
       "    <tr>\n",
       "      <th>4</th>\n",
       "      <td>29</td>\n",
       "      <td>single</td>\n",
       "      <td>m</td>\n",
       "      <td>straight</td>\n",
       "      <td>athletic</td>\n",
       "      <td>NaN</td>\n",
       "      <td>socially</td>\n",
       "      <td>never</td>\n",
       "      <td>graduated from college/university</td>\n",
       "      <td>asian, black, other</td>\n",
       "      <td>...</td>\n",
       "      <td>hey how's it going? currently vague on the pro...</td>\n",
       "      <td>work work work work + play</td>\n",
       "      <td>creating imagery to look at: http://bagsbrown....</td>\n",
       "      <td>i smile a lot and my inquisitive nature</td>\n",
       "      <td>music: bands, rappers, musicians at the moment...</td>\n",
       "      <td>NaN</td>\n",
       "      <td>NaN</td>\n",
       "      <td>NaN</td>\n",
       "      <td>NaN</td>\n",
       "      <td>NaN</td>\n",
       "    </tr>\n",
       "  </tbody>\n",
       "</table>\n",
       "<p>5 rows × 31 columns</p>\n",
       "</div>"
      ],
      "text/plain": [
       "   age     status sex orientation       body_type               diet  \\\n",
       "0   22     single   m    straight  a little extra  strictly anything   \n",
       "1   35     single   m    straight         average       mostly other   \n",
       "2   38  available   m    straight            thin           anything   \n",
       "3   23     single   m    straight            thin         vegetarian   \n",
       "4   29     single   m    straight        athletic                NaN   \n",
       "\n",
       "     drinks      drugs                          education  \\\n",
       "0  socially      never      working on college/university   \n",
       "1     often  sometimes              working on space camp   \n",
       "2  socially        NaN     graduated from masters program   \n",
       "3  socially        NaN      working on college/university   \n",
       "4  socially      never  graduated from college/university   \n",
       "\n",
       "             ethnicity  ...  \\\n",
       "0         asian, white  ...   \n",
       "1                white  ...   \n",
       "2                  NaN  ...   \n",
       "3                white  ...   \n",
       "4  asian, black, other  ...   \n",
       "\n",
       "                                              essay0  \\\n",
       "0  about me:  i would love to think that i was so...   \n",
       "1  i am a chef: this is what that means. 1. i am ...   \n",
       "2  i'm not ashamed of much, but writing public te...   \n",
       "3          i work in a library and go to school. . .   \n",
       "4  hey how's it going? currently vague on the pro...   \n",
       "\n",
       "                                              essay1  \\\n",
       "0  currently working as an international agent fo...   \n",
       "1  dedicating everyday to being an unbelievable b...   \n",
       "2  i make nerdy software for musicians, artists, ...   \n",
       "3          reading things written by old dead people   \n",
       "4                         work work work work + play   \n",
       "\n",
       "                                              essay2  \\\n",
       "0  making people laugh. ranting about a good salt...   \n",
       "1  being silly. having ridiculous amonts of fun w...   \n",
       "2  improvising in different contexts. alternating...   \n",
       "3  playing synthesizers and organizing books acco...   \n",
       "4  creating imagery to look at: http://bagsbrown....   \n",
       "\n",
       "                                              essay3  \\\n",
       "0  the way i look. i am a six foot half asian, ha...   \n",
       "1                                                NaN   \n",
       "2  my large jaw and large glasses are the physica...   \n",
       "3                  socially awkward but i do my best   \n",
       "4            i smile a lot and my inquisitive nature   \n",
       "\n",
       "                                              essay4  \\\n",
       "0  books: absurdistan, the republic, of mice and ...   \n",
       "1  i am die hard christopher moore fan. i don't r...   \n",
       "2  okay this is where the cultural matrix gets so...   \n",
       "3  bataille, celine, beckett. . . lynch, jarmusch...   \n",
       "4  music: bands, rappers, musicians at the moment...   \n",
       "\n",
       "                                              essay5  \\\n",
       "0                  food. water. cell phone. shelter.   \n",
       "1  delicious porkness in all of its glories. my b...   \n",
       "2  movement conversation creation contemplation t...   \n",
       "3                                                NaN   \n",
       "4                                                NaN   \n",
       "\n",
       "                        essay6  \\\n",
       "0  duality and humorous things   \n",
       "1                          NaN   \n",
       "2                          NaN   \n",
       "3   cats and german philosophy   \n",
       "4                          NaN   \n",
       "\n",
       "                                              essay7  \\\n",
       "0  trying to find someone to hang out with. i am ...   \n",
       "1                                                NaN   \n",
       "2  viewing. listening. dancing. talking. drinking...   \n",
       "3                                                NaN   \n",
       "4                                                NaN   \n",
       "\n",
       "                                              essay8  \\\n",
       "0  i am new to california and looking for someone...   \n",
       "1  i am very open and will share just about anyth...   \n",
       "2  when i was five years old, i was known as \"the...   \n",
       "3                                                NaN   \n",
       "4                                                NaN   \n",
       "\n",
       "                                              essay9  \n",
       "0  you want to be swept off your feet! you are ti...  \n",
       "1                                                NaN  \n",
       "2  you are bright, open, intense, silly, ironic, ...  \n",
       "3                              you feel so inclined.  \n",
       "4                                                NaN  \n",
       "\n",
       "[5 rows x 31 columns]"
      ]
     },
     "execution_count": 14,
     "metadata": {},
     "output_type": "execute_result"
    }
   ],
   "source": [
    "df.head()"
   ]
  },
  {
   "cell_type": "markdown",
   "id": "23561baa",
   "metadata": {
    "papermill": {
     "duration": 0.014968,
     "end_time": "2023-05-04T17:12:35.477939",
     "exception": false,
     "start_time": "2023-05-04T17:12:35.462971",
     "status": "completed"
    },
    "tags": []
   },
   "source": [
    "### Missing values"
   ]
  },
  {
   "cell_type": "code",
   "execution_count": 6,
   "id": "18330451",
   "metadata": {
    "execution": {
     "iopub.execute_input": "2023-05-04T17:12:35.510943Z",
     "iopub.status.busy": "2023-05-04T17:12:35.510230Z",
     "iopub.status.idle": "2023-05-04T17:12:35.516988Z",
     "shell.execute_reply": "2023-05-04T17:12:35.516262Z"
    },
    "papermill": {
     "duration": 0.025719,
     "end_time": "2023-05-04T17:12:35.519028",
     "exception": false,
     "start_time": "2023-05-04T17:12:35.493309",
     "status": "completed"
    },
    "tags": []
   },
   "outputs": [],
   "source": [
    "mask = df.height.isna()\n",
    "df.loc[mask,'height'] = df.height.median()"
   ]
  },
  {
   "cell_type": "code",
   "execution_count": 7,
   "id": "6698f464",
   "metadata": {
    "execution": {
     "iopub.execute_input": "2023-05-04T17:12:35.552965Z",
     "iopub.status.busy": "2023-05-04T17:12:35.552230Z",
     "iopub.status.idle": "2023-05-04T17:12:35.558031Z",
     "shell.execute_reply": "2023-05-04T17:12:35.557332Z"
    },
    "papermill": {
     "duration": 0.025672,
     "end_time": "2023-05-04T17:12:35.560379",
     "exception": false,
     "start_time": "2023-05-04T17:12:35.534707",
     "status": "completed"
    },
    "tags": []
   },
   "outputs": [],
   "source": [
    "df.loc[df.income == -1, 'income'] = np.NaN"
   ]
  },
  {
   "cell_type": "code",
   "execution_count": 8,
   "id": "4122ea44",
   "metadata": {
    "execution": {
     "iopub.execute_input": "2023-05-04T17:12:35.592668Z",
     "iopub.status.busy": "2023-05-04T17:12:35.592286Z",
     "iopub.status.idle": "2023-05-04T17:12:35.598413Z",
     "shell.execute_reply": "2023-05-04T17:12:35.597489Z"
    },
    "papermill": {
     "duration": 0.024573,
     "end_time": "2023-05-04T17:12:35.600438",
     "exception": false,
     "start_time": "2023-05-04T17:12:35.575865",
     "status": "completed"
    },
    "tags": []
   },
   "outputs": [
    {
     "name": "stdout",
     "output_type": "stream",
     "text": [
      "People that do not declare income: 81%\n"
     ]
    }
   ],
   "source": [
    "print(f'People that do not declare income: {df.income.isna().sum()/len(df):0.0%}')"
   ]
  },
  {
   "cell_type": "code",
   "execution_count": 9,
   "id": "790e1820",
   "metadata": {
    "execution": {
     "iopub.execute_input": "2023-05-04T17:12:35.633547Z",
     "iopub.status.busy": "2023-05-04T17:12:35.632686Z",
     "iopub.status.idle": "2023-05-04T17:12:36.035416Z",
     "shell.execute_reply": "2023-05-04T17:12:36.034356Z"
    },
    "papermill": {
     "duration": 0.421887,
     "end_time": "2023-05-04T17:12:36.037895",
     "exception": false,
     "start_time": "2023-05-04T17:12:35.616008",
     "status": "completed"
    },
    "scrolled": true,
    "tags": []
   },
   "outputs": [],
   "source": [
    "isna_cols = df.loc[:,df.isna().any()].columns\n",
    "missing_values = df[isna_cols[:12]].isna().sum().sort_values(ascending=False)"
   ]
  },
  {
   "cell_type": "code",
   "execution_count": 17,
   "id": "742f30f4",
   "metadata": {},
   "outputs": [
    {
     "data": {
      "text/plain": [
       "pandas.core.series.Series"
      ]
     },
     "execution_count": 17,
     "metadata": {},
     "output_type": "execute_result"
    }
   ],
   "source": [
    "type(missing_values)"
   ]
  },
  {
   "cell_type": "code",
   "execution_count": 19,
   "id": "fda58e1a",
   "metadata": {},
   "outputs": [
    {
     "data": {
      "text/html": [
       "<div>\n",
       "<style scoped>\n",
       "    .dataframe tbody tr th:only-of-type {\n",
       "        vertical-align: middle;\n",
       "    }\n",
       "\n",
       "    .dataframe tbody tr th {\n",
       "        vertical-align: top;\n",
       "    }\n",
       "\n",
       "    .dataframe thead th {\n",
       "        text-align: right;\n",
       "    }\n",
       "</style>\n",
       "<table border=\"1\" class=\"dataframe\">\n",
       "  <thead>\n",
       "    <tr style=\"text-align: right;\">\n",
       "      <th></th>\n",
       "      <th>Feature</th>\n",
       "      <th>Count</th>\n",
       "      <th>Percentage</th>\n",
       "    </tr>\n",
       "  </thead>\n",
       "  <tbody>\n",
       "    <tr>\n",
       "      <th>0</th>\n",
       "      <td>income</td>\n",
       "      <td>48442</td>\n",
       "      <td>0.808094</td>\n",
       "    </tr>\n",
       "    <tr>\n",
       "      <th>1</th>\n",
       "      <td>offspring</td>\n",
       "      <td>35561</td>\n",
       "      <td>0.593217</td>\n",
       "    </tr>\n",
       "    <tr>\n",
       "      <th>2</th>\n",
       "      <td>diet</td>\n",
       "      <td>24395</td>\n",
       "      <td>0.406950</td>\n",
       "    </tr>\n",
       "    <tr>\n",
       "      <th>3</th>\n",
       "      <td>religion</td>\n",
       "      <td>20226</td>\n",
       "      <td>0.337404</td>\n",
       "    </tr>\n",
       "    <tr>\n",
       "      <th>4</th>\n",
       "      <td>pets</td>\n",
       "      <td>19921</td>\n",
       "      <td>0.332316</td>\n",
       "    </tr>\n",
       "    <tr>\n",
       "      <th>5</th>\n",
       "      <td>drugs</td>\n",
       "      <td>14080</td>\n",
       "      <td>0.234878</td>\n",
       "    </tr>\n",
       "    <tr>\n",
       "      <th>6</th>\n",
       "      <td>sign</td>\n",
       "      <td>11056</td>\n",
       "      <td>0.184433</td>\n",
       "    </tr>\n",
       "    <tr>\n",
       "      <th>7</th>\n",
       "      <td>job</td>\n",
       "      <td>8198</td>\n",
       "      <td>0.136756</td>\n",
       "    </tr>\n",
       "    <tr>\n",
       "      <th>8</th>\n",
       "      <td>education</td>\n",
       "      <td>6628</td>\n",
       "      <td>0.110566</td>\n",
       "    </tr>\n",
       "    <tr>\n",
       "      <th>9</th>\n",
       "      <td>ethnicity</td>\n",
       "      <td>5680</td>\n",
       "      <td>0.094752</td>\n",
       "    </tr>\n",
       "    <tr>\n",
       "      <th>10</th>\n",
       "      <td>body_type</td>\n",
       "      <td>5296</td>\n",
       "      <td>0.088346</td>\n",
       "    </tr>\n",
       "    <tr>\n",
       "      <th>11</th>\n",
       "      <td>drinks</td>\n",
       "      <td>2985</td>\n",
       "      <td>0.049795</td>\n",
       "    </tr>\n",
       "  </tbody>\n",
       "</table>\n",
       "</div>"
      ],
      "text/plain": [
       "      Feature  Count  Percentage\n",
       "0      income  48442    0.808094\n",
       "1   offspring  35561    0.593217\n",
       "2        diet  24395    0.406950\n",
       "3    religion  20226    0.337404\n",
       "4        pets  19921    0.332316\n",
       "5       drugs  14080    0.234878\n",
       "6        sign  11056    0.184433\n",
       "7         job   8198    0.136756\n",
       "8   education   6628    0.110566\n",
       "9   ethnicity   5680    0.094752\n",
       "10  body_type   5296    0.088346\n",
       "11     drinks   2985    0.049795"
      ]
     },
     "execution_count": 19,
     "metadata": {},
     "output_type": "execute_result"
    }
   ],
   "source": [
    "dfMissing = missing_values.reset_index()\n",
    "dfMissing.columns = ['Feature', 'Count']\n",
    "dfMissing['Percentage'] = dfMissing['Count'] / len(df)\n",
    "dfMissing"
   ]
  },
  {
   "cell_type": "code",
   "execution_count": 24,
   "id": "3bc766a5",
   "metadata": {},
   "outputs": [
    {
     "data": {
      "application/vnd.plotly.v1+json": {
       "config": {
        "plotlyServerURL": "https://plot.ly"
       },
       "data": [
        {
         "alignmentgroup": "True",
         "hovertemplate": "Feature=%{x}<br>Count=%{y}<br>text=%{text}<extra></extra>",
         "legendgroup": "income",
         "marker": {
          "color": "rgb(210, 251, 212)",
          "pattern": {
           "shape": ""
          }
         },
         "name": "income",
         "offsetgroup": "income",
         "orientation": "v",
         "showlegend": true,
         "text": [
          "80.81 %"
         ],
         "textposition": "auto",
         "type": "bar",
         "x": [
          "income"
         ],
         "xaxis": "x",
         "y": [
          48442
         ],
         "yaxis": "y"
        },
        {
         "alignmentgroup": "True",
         "hovertemplate": "Feature=%{x}<br>Count=%{y}<br>text=%{text}<extra></extra>",
         "legendgroup": "offspring",
         "marker": {
          "color": "rgb(165, 219, 194)",
          "pattern": {
           "shape": ""
          }
         },
         "name": "offspring",
         "offsetgroup": "offspring",
         "orientation": "v",
         "showlegend": true,
         "text": [
          "59.32 %"
         ],
         "textposition": "auto",
         "type": "bar",
         "x": [
          "offspring"
         ],
         "xaxis": "x",
         "y": [
          35561
         ],
         "yaxis": "y"
        },
        {
         "alignmentgroup": "True",
         "hovertemplate": "Feature=%{x}<br>Count=%{y}<br>text=%{text}<extra></extra>",
         "legendgroup": "diet",
         "marker": {
          "color": "rgb(123, 188, 176)",
          "pattern": {
           "shape": ""
          }
         },
         "name": "diet",
         "offsetgroup": "diet",
         "orientation": "v",
         "showlegend": true,
         "text": [
          "40.69 %"
         ],
         "textposition": "auto",
         "type": "bar",
         "x": [
          "diet"
         ],
         "xaxis": "x",
         "y": [
          24395
         ],
         "yaxis": "y"
        },
        {
         "alignmentgroup": "True",
         "hovertemplate": "Feature=%{x}<br>Count=%{y}<br>text=%{text}<extra></extra>",
         "legendgroup": "religion",
         "marker": {
          "color": "rgb(85, 156, 158)",
          "pattern": {
           "shape": ""
          }
         },
         "name": "religion",
         "offsetgroup": "religion",
         "orientation": "v",
         "showlegend": true,
         "text": [
          "33.74 %"
         ],
         "textposition": "auto",
         "type": "bar",
         "x": [
          "religion"
         ],
         "xaxis": "x",
         "y": [
          20226
         ],
         "yaxis": "y"
        },
        {
         "alignmentgroup": "True",
         "hovertemplate": "Feature=%{x}<br>Count=%{y}<br>text=%{text}<extra></extra>",
         "legendgroup": "pets",
         "marker": {
          "color": "rgb(58, 124, 137)",
          "pattern": {
           "shape": ""
          }
         },
         "name": "pets",
         "offsetgroup": "pets",
         "orientation": "v",
         "showlegend": true,
         "text": [
          "33.23 %"
         ],
         "textposition": "auto",
         "type": "bar",
         "x": [
          "pets"
         ],
         "xaxis": "x",
         "y": [
          19921
         ],
         "yaxis": "y"
        },
        {
         "alignmentgroup": "True",
         "hovertemplate": "Feature=%{x}<br>Count=%{y}<br>text=%{text}<extra></extra>",
         "legendgroup": "drugs",
         "marker": {
          "color": "rgb(35, 93, 114)",
          "pattern": {
           "shape": ""
          }
         },
         "name": "drugs",
         "offsetgroup": "drugs",
         "orientation": "v",
         "showlegend": true,
         "text": [
          "23.49 %"
         ],
         "textposition": "auto",
         "type": "bar",
         "x": [
          "drugs"
         ],
         "xaxis": "x",
         "y": [
          14080
         ],
         "yaxis": "y"
        },
        {
         "alignmentgroup": "True",
         "hovertemplate": "Feature=%{x}<br>Count=%{y}<br>text=%{text}<extra></extra>",
         "legendgroup": "sign",
         "marker": {
          "color": "rgb(18, 63, 90)",
          "pattern": {
           "shape": ""
          }
         },
         "name": "sign",
         "offsetgroup": "sign",
         "orientation": "v",
         "showlegend": true,
         "text": [
          "18.44 %"
         ],
         "textposition": "auto",
         "type": "bar",
         "x": [
          "sign"
         ],
         "xaxis": "x",
         "y": [
          11056
         ],
         "yaxis": "y"
        },
        {
         "alignmentgroup": "True",
         "hovertemplate": "Feature=%{x}<br>Count=%{y}<br>text=%{text}<extra></extra>",
         "legendgroup": "job",
         "marker": {
          "color": "rgb(210, 251, 212)",
          "pattern": {
           "shape": ""
          }
         },
         "name": "job",
         "offsetgroup": "job",
         "orientation": "v",
         "showlegend": true,
         "text": [
          "13.68 %"
         ],
         "textposition": "auto",
         "type": "bar",
         "x": [
          "job"
         ],
         "xaxis": "x",
         "y": [
          8198
         ],
         "yaxis": "y"
        },
        {
         "alignmentgroup": "True",
         "hovertemplate": "Feature=%{x}<br>Count=%{y}<br>text=%{text}<extra></extra>",
         "legendgroup": "education",
         "marker": {
          "color": "rgb(165, 219, 194)",
          "pattern": {
           "shape": ""
          }
         },
         "name": "education",
         "offsetgroup": "education",
         "orientation": "v",
         "showlegend": true,
         "text": [
          "11.06 %"
         ],
         "textposition": "auto",
         "type": "bar",
         "x": [
          "education"
         ],
         "xaxis": "x",
         "y": [
          6628
         ],
         "yaxis": "y"
        },
        {
         "alignmentgroup": "True",
         "hovertemplate": "Feature=%{x}<br>Count=%{y}<br>text=%{text}<extra></extra>",
         "legendgroup": "ethnicity",
         "marker": {
          "color": "rgb(123, 188, 176)",
          "pattern": {
           "shape": ""
          }
         },
         "name": "ethnicity",
         "offsetgroup": "ethnicity",
         "orientation": "v",
         "showlegend": true,
         "text": [
          "9.48 %"
         ],
         "textposition": "auto",
         "type": "bar",
         "x": [
          "ethnicity"
         ],
         "xaxis": "x",
         "y": [
          5680
         ],
         "yaxis": "y"
        },
        {
         "alignmentgroup": "True",
         "hovertemplate": "Feature=%{x}<br>Count=%{y}<br>text=%{text}<extra></extra>",
         "legendgroup": "body_type",
         "marker": {
          "color": "rgb(85, 156, 158)",
          "pattern": {
           "shape": ""
          }
         },
         "name": "body_type",
         "offsetgroup": "body_type",
         "orientation": "v",
         "showlegend": true,
         "text": [
          "8.83 %"
         ],
         "textposition": "auto",
         "type": "bar",
         "x": [
          "body_type"
         ],
         "xaxis": "x",
         "y": [
          5296
         ],
         "yaxis": "y"
        },
        {
         "alignmentgroup": "True",
         "hovertemplate": "Feature=%{x}<br>Count=%{y}<br>text=%{text}<extra></extra>",
         "legendgroup": "drinks",
         "marker": {
          "color": "rgb(58, 124, 137)",
          "pattern": {
           "shape": ""
          }
         },
         "name": "drinks",
         "offsetgroup": "drinks",
         "orientation": "v",
         "showlegend": true,
         "text": [
          "4.98 %"
         ],
         "textposition": "auto",
         "type": "bar",
         "x": [
          "drinks"
         ],
         "xaxis": "x",
         "y": [
          2985
         ],
         "yaxis": "y"
        }
       ],
       "layout": {
        "barmode": "relative",
        "legend": {
         "title": {
          "text": "Feature"
         },
         "tracegroupgap": 0
        },
        "template": {
         "data": {
          "bar": [
           {
            "error_x": {
             "color": "#2a3f5f"
            },
            "error_y": {
             "color": "#2a3f5f"
            },
            "marker": {
             "line": {
              "color": "#E5ECF6",
              "width": 0.5
             },
             "pattern": {
              "fillmode": "overlay",
              "size": 10,
              "solidity": 0.2
             }
            },
            "type": "bar"
           }
          ],
          "barpolar": [
           {
            "marker": {
             "line": {
              "color": "#E5ECF6",
              "width": 0.5
             },
             "pattern": {
              "fillmode": "overlay",
              "size": 10,
              "solidity": 0.2
             }
            },
            "type": "barpolar"
           }
          ],
          "carpet": [
           {
            "aaxis": {
             "endlinecolor": "#2a3f5f",
             "gridcolor": "white",
             "linecolor": "white",
             "minorgridcolor": "white",
             "startlinecolor": "#2a3f5f"
            },
            "baxis": {
             "endlinecolor": "#2a3f5f",
             "gridcolor": "white",
             "linecolor": "white",
             "minorgridcolor": "white",
             "startlinecolor": "#2a3f5f"
            },
            "type": "carpet"
           }
          ],
          "choropleth": [
           {
            "colorbar": {
             "outlinewidth": 0,
             "ticks": ""
            },
            "type": "choropleth"
           }
          ],
          "contour": [
           {
            "colorbar": {
             "outlinewidth": 0,
             "ticks": ""
            },
            "colorscale": [
             [
              0,
              "#0d0887"
             ],
             [
              0.1111111111111111,
              "#46039f"
             ],
             [
              0.2222222222222222,
              "#7201a8"
             ],
             [
              0.3333333333333333,
              "#9c179e"
             ],
             [
              0.4444444444444444,
              "#bd3786"
             ],
             [
              0.5555555555555556,
              "#d8576b"
             ],
             [
              0.6666666666666666,
              "#ed7953"
             ],
             [
              0.7777777777777778,
              "#fb9f3a"
             ],
             [
              0.8888888888888888,
              "#fdca26"
             ],
             [
              1,
              "#f0f921"
             ]
            ],
            "type": "contour"
           }
          ],
          "contourcarpet": [
           {
            "colorbar": {
             "outlinewidth": 0,
             "ticks": ""
            },
            "type": "contourcarpet"
           }
          ],
          "heatmap": [
           {
            "colorbar": {
             "outlinewidth": 0,
             "ticks": ""
            },
            "colorscale": [
             [
              0,
              "#0d0887"
             ],
             [
              0.1111111111111111,
              "#46039f"
             ],
             [
              0.2222222222222222,
              "#7201a8"
             ],
             [
              0.3333333333333333,
              "#9c179e"
             ],
             [
              0.4444444444444444,
              "#bd3786"
             ],
             [
              0.5555555555555556,
              "#d8576b"
             ],
             [
              0.6666666666666666,
              "#ed7953"
             ],
             [
              0.7777777777777778,
              "#fb9f3a"
             ],
             [
              0.8888888888888888,
              "#fdca26"
             ],
             [
              1,
              "#f0f921"
             ]
            ],
            "type": "heatmap"
           }
          ],
          "heatmapgl": [
           {
            "colorbar": {
             "outlinewidth": 0,
             "ticks": ""
            },
            "colorscale": [
             [
              0,
              "#0d0887"
             ],
             [
              0.1111111111111111,
              "#46039f"
             ],
             [
              0.2222222222222222,
              "#7201a8"
             ],
             [
              0.3333333333333333,
              "#9c179e"
             ],
             [
              0.4444444444444444,
              "#bd3786"
             ],
             [
              0.5555555555555556,
              "#d8576b"
             ],
             [
              0.6666666666666666,
              "#ed7953"
             ],
             [
              0.7777777777777778,
              "#fb9f3a"
             ],
             [
              0.8888888888888888,
              "#fdca26"
             ],
             [
              1,
              "#f0f921"
             ]
            ],
            "type": "heatmapgl"
           }
          ],
          "histogram": [
           {
            "marker": {
             "pattern": {
              "fillmode": "overlay",
              "size": 10,
              "solidity": 0.2
             }
            },
            "type": "histogram"
           }
          ],
          "histogram2d": [
           {
            "colorbar": {
             "outlinewidth": 0,
             "ticks": ""
            },
            "colorscale": [
             [
              0,
              "#0d0887"
             ],
             [
              0.1111111111111111,
              "#46039f"
             ],
             [
              0.2222222222222222,
              "#7201a8"
             ],
             [
              0.3333333333333333,
              "#9c179e"
             ],
             [
              0.4444444444444444,
              "#bd3786"
             ],
             [
              0.5555555555555556,
              "#d8576b"
             ],
             [
              0.6666666666666666,
              "#ed7953"
             ],
             [
              0.7777777777777778,
              "#fb9f3a"
             ],
             [
              0.8888888888888888,
              "#fdca26"
             ],
             [
              1,
              "#f0f921"
             ]
            ],
            "type": "histogram2d"
           }
          ],
          "histogram2dcontour": [
           {
            "colorbar": {
             "outlinewidth": 0,
             "ticks": ""
            },
            "colorscale": [
             [
              0,
              "#0d0887"
             ],
             [
              0.1111111111111111,
              "#46039f"
             ],
             [
              0.2222222222222222,
              "#7201a8"
             ],
             [
              0.3333333333333333,
              "#9c179e"
             ],
             [
              0.4444444444444444,
              "#bd3786"
             ],
             [
              0.5555555555555556,
              "#d8576b"
             ],
             [
              0.6666666666666666,
              "#ed7953"
             ],
             [
              0.7777777777777778,
              "#fb9f3a"
             ],
             [
              0.8888888888888888,
              "#fdca26"
             ],
             [
              1,
              "#f0f921"
             ]
            ],
            "type": "histogram2dcontour"
           }
          ],
          "mesh3d": [
           {
            "colorbar": {
             "outlinewidth": 0,
             "ticks": ""
            },
            "type": "mesh3d"
           }
          ],
          "parcoords": [
           {
            "line": {
             "colorbar": {
              "outlinewidth": 0,
              "ticks": ""
             }
            },
            "type": "parcoords"
           }
          ],
          "pie": [
           {
            "automargin": true,
            "type": "pie"
           }
          ],
          "scatter": [
           {
            "fillpattern": {
             "fillmode": "overlay",
             "size": 10,
             "solidity": 0.2
            },
            "type": "scatter"
           }
          ],
          "scatter3d": [
           {
            "line": {
             "colorbar": {
              "outlinewidth": 0,
              "ticks": ""
             }
            },
            "marker": {
             "colorbar": {
              "outlinewidth": 0,
              "ticks": ""
             }
            },
            "type": "scatter3d"
           }
          ],
          "scattercarpet": [
           {
            "marker": {
             "colorbar": {
              "outlinewidth": 0,
              "ticks": ""
             }
            },
            "type": "scattercarpet"
           }
          ],
          "scattergeo": [
           {
            "marker": {
             "colorbar": {
              "outlinewidth": 0,
              "ticks": ""
             }
            },
            "type": "scattergeo"
           }
          ],
          "scattergl": [
           {
            "marker": {
             "colorbar": {
              "outlinewidth": 0,
              "ticks": ""
             }
            },
            "type": "scattergl"
           }
          ],
          "scattermapbox": [
           {
            "marker": {
             "colorbar": {
              "outlinewidth": 0,
              "ticks": ""
             }
            },
            "type": "scattermapbox"
           }
          ],
          "scatterpolar": [
           {
            "marker": {
             "colorbar": {
              "outlinewidth": 0,
              "ticks": ""
             }
            },
            "type": "scatterpolar"
           }
          ],
          "scatterpolargl": [
           {
            "marker": {
             "colorbar": {
              "outlinewidth": 0,
              "ticks": ""
             }
            },
            "type": "scatterpolargl"
           }
          ],
          "scatterternary": [
           {
            "marker": {
             "colorbar": {
              "outlinewidth": 0,
              "ticks": ""
             }
            },
            "type": "scatterternary"
           }
          ],
          "surface": [
           {
            "colorbar": {
             "outlinewidth": 0,
             "ticks": ""
            },
            "colorscale": [
             [
              0,
              "#0d0887"
             ],
             [
              0.1111111111111111,
              "#46039f"
             ],
             [
              0.2222222222222222,
              "#7201a8"
             ],
             [
              0.3333333333333333,
              "#9c179e"
             ],
             [
              0.4444444444444444,
              "#bd3786"
             ],
             [
              0.5555555555555556,
              "#d8576b"
             ],
             [
              0.6666666666666666,
              "#ed7953"
             ],
             [
              0.7777777777777778,
              "#fb9f3a"
             ],
             [
              0.8888888888888888,
              "#fdca26"
             ],
             [
              1,
              "#f0f921"
             ]
            ],
            "type": "surface"
           }
          ],
          "table": [
           {
            "cells": {
             "fill": {
              "color": "#EBF0F8"
             },
             "line": {
              "color": "white"
             }
            },
            "header": {
             "fill": {
              "color": "#C8D4E3"
             },
             "line": {
              "color": "white"
             }
            },
            "type": "table"
           }
          ]
         },
         "layout": {
          "annotationdefaults": {
           "arrowcolor": "#2a3f5f",
           "arrowhead": 0,
           "arrowwidth": 1
          },
          "autotypenumbers": "strict",
          "coloraxis": {
           "colorbar": {
            "outlinewidth": 0,
            "ticks": ""
           }
          },
          "colorscale": {
           "diverging": [
            [
             0,
             "#8e0152"
            ],
            [
             0.1,
             "#c51b7d"
            ],
            [
             0.2,
             "#de77ae"
            ],
            [
             0.3,
             "#f1b6da"
            ],
            [
             0.4,
             "#fde0ef"
            ],
            [
             0.5,
             "#f7f7f7"
            ],
            [
             0.6,
             "#e6f5d0"
            ],
            [
             0.7,
             "#b8e186"
            ],
            [
             0.8,
             "#7fbc41"
            ],
            [
             0.9,
             "#4d9221"
            ],
            [
             1,
             "#276419"
            ]
           ],
           "sequential": [
            [
             0,
             "#0d0887"
            ],
            [
             0.1111111111111111,
             "#46039f"
            ],
            [
             0.2222222222222222,
             "#7201a8"
            ],
            [
             0.3333333333333333,
             "#9c179e"
            ],
            [
             0.4444444444444444,
             "#bd3786"
            ],
            [
             0.5555555555555556,
             "#d8576b"
            ],
            [
             0.6666666666666666,
             "#ed7953"
            ],
            [
             0.7777777777777778,
             "#fb9f3a"
            ],
            [
             0.8888888888888888,
             "#fdca26"
            ],
            [
             1,
             "#f0f921"
            ]
           ],
           "sequentialminus": [
            [
             0,
             "#0d0887"
            ],
            [
             0.1111111111111111,
             "#46039f"
            ],
            [
             0.2222222222222222,
             "#7201a8"
            ],
            [
             0.3333333333333333,
             "#9c179e"
            ],
            [
             0.4444444444444444,
             "#bd3786"
            ],
            [
             0.5555555555555556,
             "#d8576b"
            ],
            [
             0.6666666666666666,
             "#ed7953"
            ],
            [
             0.7777777777777778,
             "#fb9f3a"
            ],
            [
             0.8888888888888888,
             "#fdca26"
            ],
            [
             1,
             "#f0f921"
            ]
           ]
          },
          "colorway": [
           "#636efa",
           "#EF553B",
           "#00cc96",
           "#ab63fa",
           "#FFA15A",
           "#19d3f3",
           "#FF6692",
           "#B6E880",
           "#FF97FF",
           "#FECB52"
          ],
          "font": {
           "color": "#2a3f5f"
          },
          "geo": {
           "bgcolor": "white",
           "lakecolor": "white",
           "landcolor": "#E5ECF6",
           "showlakes": true,
           "showland": true,
           "subunitcolor": "white"
          },
          "hoverlabel": {
           "align": "left"
          },
          "hovermode": "closest",
          "mapbox": {
           "style": "light"
          },
          "paper_bgcolor": "white",
          "plot_bgcolor": "#E5ECF6",
          "polar": {
           "angularaxis": {
            "gridcolor": "white",
            "linecolor": "white",
            "ticks": ""
           },
           "bgcolor": "#E5ECF6",
           "radialaxis": {
            "gridcolor": "white",
            "linecolor": "white",
            "ticks": ""
           }
          },
          "scene": {
           "xaxis": {
            "backgroundcolor": "#E5ECF6",
            "gridcolor": "white",
            "gridwidth": 2,
            "linecolor": "white",
            "showbackground": true,
            "ticks": "",
            "zerolinecolor": "white"
           },
           "yaxis": {
            "backgroundcolor": "#E5ECF6",
            "gridcolor": "white",
            "gridwidth": 2,
            "linecolor": "white",
            "showbackground": true,
            "ticks": "",
            "zerolinecolor": "white"
           },
           "zaxis": {
            "backgroundcolor": "#E5ECF6",
            "gridcolor": "white",
            "gridwidth": 2,
            "linecolor": "white",
            "showbackground": true,
            "ticks": "",
            "zerolinecolor": "white"
           }
          },
          "shapedefaults": {
           "line": {
            "color": "#2a3f5f"
           }
          },
          "ternary": {
           "aaxis": {
            "gridcolor": "white",
            "linecolor": "white",
            "ticks": ""
           },
           "baxis": {
            "gridcolor": "white",
            "linecolor": "white",
            "ticks": ""
           },
           "bgcolor": "#E5ECF6",
           "caxis": {
            "gridcolor": "white",
            "linecolor": "white",
            "ticks": ""
           }
          },
          "title": {
           "x": 0.05
          },
          "xaxis": {
           "automargin": true,
           "gridcolor": "white",
           "linecolor": "white",
           "ticks": "",
           "title": {
            "standoff": 15
           },
           "zerolinecolor": "white",
           "zerolinewidth": 2
          },
          "yaxis": {
           "automargin": true,
           "gridcolor": "white",
           "linecolor": "white",
           "ticks": "",
           "title": {
            "standoff": 15
           },
           "zerolinecolor": "white",
           "zerolinewidth": 2
          }
         }
        },
        "title": {
         "text": "Missing values per feature (excluding essays)"
        },
        "xaxis": {
         "anchor": "y",
         "categoryarray": [
          "income",
          "offspring",
          "diet",
          "religion",
          "pets",
          "drugs",
          "sign",
          "job",
          "education",
          "ethnicity",
          "body_type",
          "drinks"
         ],
         "categoryorder": "array",
         "domain": [
          0,
          1
         ],
         "tickangle": -70,
         "tickfont": {
          "size": 13
         },
         "title": {
          "text": "Feature"
         }
        },
        "yaxis": {
         "anchor": "x",
         "domain": [
          0,
          1
         ],
         "title": {
          "text": "Count"
         }
        }
       }
      }
     },
     "metadata": {},
     "output_type": "display_data"
    }
   ],
   "source": [
    "# Convert to DataFrame for Plotly\n",
    "dfMissing = missing_values.reset_index()\n",
    "dfMissing.columns = ['Feature', 'Count']\n",
    "dfMissing['Percentage'] = round(dfMissing['Count'] * 100 / len(df), 2)\n",
    "\n",
    "# Create bar plot\n",
    "fig = px.bar(dfMissing, x='Feature', y='Count', text=dfMissing['Percentage'].apply(lambda x : f\"{x} %\"), \n",
    "             title='Missing values per feature (excluding essays)',\n",
    "             labels={'Percentage': 'Percentage (%)'},\n",
    "             color='Feature', color_discrete_sequence=px.colors.sequential.Darkmint)\n",
    "\n",
    "# Annotate specific point\n",
    "# fig.add_annotation(x='income', y=48000, text='81% of users do not declare income', \n",
    "#       showarrow=True, arrowhead=2, ax=50, ay=-100)\n",
    "\n",
    "# Adjust layout\n",
    "fig.update_layout(xaxis_tickangle=-70, xaxis_tickfont_size=13)\n",
    "\n",
    "# Show plot\n",
    "fig.show()"
   ]
  },
  {
   "cell_type": "markdown",
   "id": "4c052a2c",
   "metadata": {
    "papermill": {
     "duration": 0.015938,
     "end_time": "2023-05-04T17:12:36.650047",
     "exception": false,
     "start_time": "2023-05-04T17:12:36.634109",
     "status": "completed"
    },
    "tags": []
   },
   "source": [
    "We can see in the picture that income and offspring have several missing values, I am not using these columns for the time being.\n",
    "\n",
    "The columns that I consider more interesting in order to find a match are:\n",
    "\n",
    "* **Age**. Numerical type already. To scale before \n",
    "* **Height.** Numerical type already. Nothing to do.\n",
    "* **Body type**. We can convert this one to a ordered categorical type. \n",
    "* **Drinks**. To convert to ordered categorical.\n",
    "* **Drugs**. To convert to ordered categorical.\n",
    "* **Education**. To convert to ordered categorical.\n",
    "* **Height**. Numerical type already.\n",
    "* **Offspring**. To convert to ordered categorical.\n",
    "* **Smokes**. To convert to ordered categorical.\n",
    "* **Pets**. To create 2 new_columns: **likes_dog, likes_cat**\n",
    "\n",
    "In order to not be discarding a lot of rows, I am going to fill the missing values with the category that corresponds to the median value of the categorical codes of the feature."
   ]
  },
  {
   "cell_type": "markdown",
   "id": "09f7d4fd",
   "metadata": {
    "papermill": {
     "duration": 0.016042,
     "end_time": "2023-05-04T17:12:36.682611",
     "exception": false,
     "start_time": "2023-05-04T17:12:36.666569",
     "status": "completed"
    },
    "tags": []
   },
   "source": [
    "### Sex Distribution. Orientation"
   ]
  },
  {
   "cell_type": "code",
   "execution_count": null,
   "id": "44d0fc9d",
   "metadata": {},
   "outputs": [],
   "source": []
  },
  {
   "cell_type": "code",
   "execution_count": 25,
   "id": "a6985b13",
   "metadata": {
    "execution": {
     "iopub.execute_input": "2023-05-04T17:12:36.716663Z",
     "iopub.status.busy": "2023-05-04T17:12:36.716254Z",
     "iopub.status.idle": "2023-05-04T17:12:37.280086Z",
     "shell.execute_reply": "2023-05-04T17:12:37.279005Z"
    },
    "papermill": {
     "duration": 0.583461,
     "end_time": "2023-05-04T17:12:37.282310",
     "exception": false,
     "start_time": "2023-05-04T17:12:36.698849",
     "status": "completed"
    },
    "tags": []
   },
   "outputs": [
    {
     "data": {
      "image/png": "[encoded data removed]",
      "text/plain": [
       "<Figure size 1400x500 with 2 Axes>"
      ]
     },
     "metadata": {},
     "output_type": "display_data"
    }
   ],
   "source": [
    "fig1, ax1 = plt.subplots(ncols=2,figsize=(14, 5))\n",
    "cat_cols = ['sex', 'orientation']\n",
    "titles = ['Sex distribution', 'Sexual orientation']\n",
    "\n",
    "sns.countplot(data=df, x='sex', ax=ax1[0], width=0.4)\n",
    "sns.countplot(data=df, x='orientation', hue='sex', ax=ax1[1])\n",
    "fig1.savefig('figure_01.png');"
   ]
  },
  {
   "cell_type": "markdown",
   "id": "956072b0",
   "metadata": {
    "papermill": {
     "duration": 0.016721,
     "end_time": "2023-05-04T17:12:37.316037",
     "exception": false,
     "start_time": "2023-05-04T17:12:37.299316",
     "status": "completed"
    },
    "tags": []
   },
   "source": [
    "### Numerical Features: Age, Height"
   ]
  },
  {
   "cell_type": "code",
   "execution_count": 26,
   "id": "4a9b3b45",
   "metadata": {
    "execution": {
     "iopub.execute_input": "2023-05-04T17:12:37.351507Z",
     "iopub.status.busy": "2023-05-04T17:12:37.351109Z",
     "iopub.status.idle": "2023-05-04T17:12:38.433295Z",
     "shell.execute_reply": "2023-05-04T17:12:38.432541Z"
    },
    "papermill": {
     "duration": 1.102268,
     "end_time": "2023-05-04T17:12:38.435217",
     "exception": false,
     "start_time": "2023-05-04T17:12:37.332949",
     "status": "completed"
    },
    "tags": []
   },
   "outputs": [
    {
     "data": {
      "image/png": "[encoded data removed]",
      "text/plain": [
       "<Figure size 1400x500 with 2 Axes>"
      ]
     },
     "metadata": {},
     "output_type": "display_data"
    }
   ],
   "source": [
    "sns.set_style(\"white\")\n",
    "num_cols = ['age','height']\n",
    "xlims = [(15, 70), (130,220)]\n",
    "titles = ['Age Distribution', 'Height Distribution']\n",
    "fig2, ax2 = plt.subplots(ncols=2, figsize=(14,5),sharey=False)\n",
    "for i, col in enumerate(num_cols):\n",
    "    sns.histplot(data=df, x=col, ax=ax2[i], hue='sex', element='step',bins=40, alpha=0.4)\n",
    "    ax2[i].set(xlim=xlims[i], title = titles[i])\n",
    "fig2.savefig('figure_02.png')"
   ]
  },
  {
   "cell_type": "markdown",
   "id": "e5923e17",
   "metadata": {
    "papermill": {
     "duration": 0.017321,
     "end_time": "2023-05-04T17:12:38.470317",
     "exception": false,
     "start_time": "2023-05-04T17:12:38.452996",
     "status": "completed"
    },
    "tags": []
   },
   "source": [
    "### Location"
   ]
  },
  {
   "cell_type": "code",
   "execution_count": 27,
   "id": "b878f292",
   "metadata": {
    "execution": {
     "iopub.execute_input": "2023-05-04T17:12:38.507510Z",
     "iopub.status.busy": "2023-05-04T17:12:38.506904Z",
     "iopub.status.idle": "2023-05-04T17:12:38.772434Z",
     "shell.execute_reply": "2023-05-04T17:12:38.771410Z"
    },
    "papermill": {
     "duration": 0.286677,
     "end_time": "2023-05-04T17:12:38.774698",
     "exception": false,
     "start_time": "2023-05-04T17:12:38.488021",
     "status": "completed"
    },
    "scrolled": true,
    "tags": []
   },
   "outputs": [
    {
     "data": {
      "text/plain": [
       "state_\n",
       "california       99.85\n",
       "new york          0.03\n",
       "illinois          0.01\n",
       "massachusetts     0.01\n",
       "texas             0.01\n",
       "Name: proportion, dtype: float64"
      ]
     },
     "execution_count": 27,
     "metadata": {},
     "output_type": "execute_result"
    }
   ],
   "source": [
    "df[['city_','state_']] = df.location.str.split(pat=', ',expand=True).loc[:,0:1]\n",
    "df.loc[:,['location', 'city_', 'state_']]\n",
    "df.state_.value_counts(normalize=True).round(4)[:5]*100"
   ]
  },
  {
   "cell_type": "code",
   "execution_count": 28,
   "id": "92d4c79d",
   "metadata": {
    "execution": {
     "iopub.execute_input": "2023-05-04T17:12:38.811611Z",
     "iopub.status.busy": "2023-05-04T17:12:38.811223Z",
     "iopub.status.idle": "2023-05-04T17:12:38.823281Z",
     "shell.execute_reply": "2023-05-04T17:12:38.822317Z"
    },
    "papermill": {
     "duration": 0.033325,
     "end_time": "2023-05-04T17:12:38.825566",
     "exception": false,
     "start_time": "2023-05-04T17:12:38.792241",
     "status": "completed"
    },
    "tags": []
   },
   "outputs": [],
   "source": [
    "city_count = df.city_.value_counts(normalize=True).round(3)[:20]*100"
   ]
  },
  {
   "cell_type": "code",
   "execution_count": 29,
   "id": "2d9816db",
   "metadata": {
    "execution": {
     "iopub.execute_input": "2023-05-04T17:12:38.862388Z",
     "iopub.status.busy": "2023-05-04T17:12:38.862017Z",
     "iopub.status.idle": "2023-05-04T17:12:39.682620Z",
     "shell.execute_reply": "2023-05-04T17:12:39.681491Z"
    },
    "papermill": {
     "duration": 0.842318,
     "end_time": "2023-05-04T17:12:39.685438",
     "exception": false,
     "start_time": "2023-05-04T17:12:38.843120",
     "status": "completed"
    },
    "tags": []
   },
   "outputs": [
    {
     "name": "stderr",
     "output_type": "stream",
     "text": [
      "C:\\Users\\aadit\\AppData\\Local\\Temp\\ipykernel_38572\\1856733128.py:3: FutureWarning:\n",
      "\n",
      "\n",
      "\n",
      "Passing `palette` without assigning `hue` is deprecated and will be removed in v0.14.0. Assign the `x` variable to `hue` and set `legend=False` for the same effect.\n",
      "\n",
      "\n"
     ]
    },
    {
     "data": {
      "image/png": "[encoded data removed]",
      "text/plain": [
       "<Figure size 1400x600 with 1 Axes>"
      ]
     },
     "metadata": {},
     "output_type": "display_data"
    }
   ],
   "source": [
    "sns.set_style(\"dark\")\n",
    "fig3, ax3 = plt.subplots(figsize=(14,6))\n",
    "sns.barplot(x=city_count.index, y=city_count, palette='dark', ax=ax3)\n",
    "ax3.set(xticks=range(len(city_count)),title='Percentage of Users by City',ylabel = 'Users %')\n",
    "ax3.set_xticklabels(labels=city_count.index, rotation=70,fontsize=13)\n",
    "ax3.text(1.5, 45, 'Almost 100% of users are located in California, and more of 50% in San Francisco', \n",
    "         style='italic', fontsize=15);\n",
    "fig3.tight_layout()\n",
    "fig3.savefig('figure_03.png')"
   ]
  },
  {
   "cell_type": "markdown",
   "id": "88883e27",
   "metadata": {
    "papermill": {
     "duration": 0.018949,
     "end_time": "2023-05-04T17:12:39.723895",
     "exception": false,
     "start_time": "2023-05-04T17:12:39.704946",
     "status": "completed"
    },
    "tags": []
   },
   "source": [
    "Almost 100% of users are located in California, and more of 50% in San Francisco"
   ]
  },
  {
   "cell_type": "markdown",
   "id": "81cda1af",
   "metadata": {
    "papermill": {
     "duration": 0.019104,
     "end_time": "2023-05-04T17:12:39.762258",
     "exception": false,
     "start_time": "2023-05-04T17:12:39.743154",
     "status": "completed"
    },
    "tags": []
   },
   "source": [
    "## Mapping categories"
   ]
  },
  {
   "cell_type": "markdown",
   "id": "4cf68474",
   "metadata": {
    "papermill": {
     "duration": 0.018764,
     "end_time": "2023-05-04T17:12:39.801682",
     "exception": false,
     "start_time": "2023-05-04T17:12:39.782918",
     "status": "completed"
    },
    "tags": []
   },
   "source": [
    "As there are columns that have several unique values, with the function below we can map strings into a selected group of few categories, using an ad-hoc dictionary for each feature.\n",
    "\n",
    "I will use an underscore at the end of each handcrafted feature."
   ]
  },
  {
   "cell_type": "code",
   "execution_count": 30,
   "id": "e4f0644f",
   "metadata": {
    "execution": {
     "iopub.execute_input": "2023-05-04T17:12:39.841352Z",
     "iopub.status.busy": "2023-05-04T17:12:39.840847Z",
     "iopub.status.idle": "2023-05-04T17:12:39.846286Z",
     "shell.execute_reply": "2023-05-04T17:12:39.845340Z"
    },
    "papermill": {
     "duration": 0.027531,
     "end_time": "2023-05-04T17:12:39.848364",
     "exception": false,
     "start_time": "2023-05-04T17:12:39.820833",
     "status": "completed"
    },
    "tags": []
   },
   "outputs": [],
   "source": [
    "def map_cat(a_string, a_dic):\n",
    "    ''' a_string: a string we want to map with a_dic\n",
    "        a_dic: a dictionary whose keys are tuples'''\n",
    "    for k in a_dic:\n",
    "        if a_string in k:\n",
    "            return a_dic.get(k)\n",
    "    return np.NaN"
   ]
  },
  {
   "cell_type": "markdown",
   "id": "2261b9ff",
   "metadata": {
    "papermill": {
     "duration": 0.018695,
     "end_time": "2023-05-04T17:12:39.886347",
     "exception": false,
     "start_time": "2023-05-04T17:12:39.867652",
     "status": "completed"
    },
    "tags": []
   },
   "source": [
    "### Body Type. Education"
   ]
  },
  {
   "cell_type": "code",
   "execution_count": 31,
   "id": "bbeae004",
   "metadata": {
    "execution": {
     "iopub.execute_input": "2023-05-04T17:12:39.926038Z",
     "iopub.status.busy": "2023-05-04T17:12:39.925687Z",
     "iopub.status.idle": "2023-05-04T17:12:39.935785Z",
     "shell.execute_reply": "2023-05-04T17:12:39.934749Z"
    },
    "papermill": {
     "duration": 0.032598,
     "end_time": "2023-05-04T17:12:39.937956",
     "exception": false,
     "start_time": "2023-05-04T17:12:39.905358",
     "status": "completed"
    },
    "tags": []
   },
   "outputs": [
    {
     "data": {
      "text/plain": [
       "body_type\n",
       "average           14652\n",
       "fit               12711\n",
       "athletic          11819\n",
       "NaN                5296\n",
       "thin               4711\n",
       "curvy              3924\n",
       "a little extra     2629\n",
       "skinny             1777\n",
       "full figured       1009\n",
       "overweight          444\n",
       "jacked              421\n",
       "used up             355\n",
       "rather not say      198\n",
       "Name: count, dtype: int64"
      ]
     },
     "execution_count": 31,
     "metadata": {},
     "output_type": "execute_result"
    }
   ],
   "source": [
    "df.body_type.value_counts(dropna=False)"
   ]
  },
  {
   "cell_type": "markdown",
   "id": "113e420a",
   "metadata": {
    "papermill": {
     "duration": 0.019558,
     "end_time": "2023-05-04T17:12:39.977433",
     "exception": false,
     "start_time": "2023-05-04T17:12:39.957875",
     "status": "completed"
    },
    "tags": []
   },
   "source": [
    "Too many body types in my opinion. Now we try grouping all these body types in just three categories, as described by medical literature. "
   ]
  },
  {
   "cell_type": "code",
   "execution_count": 32,
   "id": "07059d48",
   "metadata": {
    "execution": {
     "iopub.execute_input": "2023-05-04T17:12:40.019315Z",
     "iopub.status.busy": "2023-05-04T17:12:40.018374Z",
     "iopub.status.idle": "2023-05-04T17:12:40.078987Z",
     "shell.execute_reply": "2023-05-04T17:12:40.078211Z"
    },
    "papermill": {
     "duration": 0.083892,
     "end_time": "2023-05-04T17:12:40.081201",
     "exception": false,
     "start_time": "2023-05-04T17:12:39.997309",
     "status": "completed"
    },
    "scrolled": true,
    "tags": []
   },
   "outputs": [],
   "source": [
    "body_types_dic={('skinny','used up','thin'):'ectomorph',\n",
    "               ('average','fit','athletic','jacked'):'mesomorph',\n",
    "               ('a little extra','curvy','full figured'):'endomorph'}\n",
    "\n",
    "body_categories = CategoricalDtype(categories=['ectomorph','mesomorph','endomorph'], ordered=True)\n",
    "\n",
    "df['body_type_'] = df.body_type.apply(map_cat,args=(body_types_dic,)).astype(body_categories)\n",
    "df.body_type_ = df.body_type_.fillna(body_categories.categories[int(np.median(df.body_type_.cat.codes))])"
   ]
  },
  {
   "cell_type": "code",
   "execution_count": 33,
   "id": "0f6fd2d6",
   "metadata": {
    "execution": {
     "iopub.execute_input": "2023-05-04T17:12:40.122397Z",
     "iopub.status.busy": "2023-05-04T17:12:40.121399Z",
     "iopub.status.idle": "2023-05-04T17:12:40.126432Z",
     "shell.execute_reply": "2023-05-04T17:12:40.125549Z"
    },
    "papermill": {
     "duration": 0.027855,
     "end_time": "2023-05-04T17:12:40.128625",
     "exception": false,
     "start_time": "2023-05-04T17:12:40.100770",
     "status": "completed"
    },
    "scrolled": true,
    "tags": []
   },
   "outputs": [],
   "source": [
    "education_categories = CategoricalDtype(categories=['High school or less','Some college',\n",
    "                                        'College or more','Post graduate degree'],\n",
    "                                        ordered=True)"
   ]
  },
  {
   "cell_type": "markdown",
   "id": "f66986e8",
   "metadata": {
    "papermill": {
     "duration": 0.01915,
     "end_time": "2023-05-04T17:12:40.167289",
     "exception": false,
     "start_time": "2023-05-04T17:12:40.148139",
     "status": "completed"
    },
    "tags": []
   },
   "source": [
    "As I am Spaniard, not sure if the mapping of education levels are accurate. Apologies if I am mistaken, I'm doing my best guessing here."
   ]
  },
  {
   "cell_type": "code",
   "execution_count": 34,
   "id": "37bab89f",
   "metadata": {
    "execution": {
     "iopub.execute_input": "2023-05-04T17:12:40.208375Z",
     "iopub.status.busy": "2023-05-04T17:12:40.207968Z",
     "iopub.status.idle": "2023-05-04T17:12:40.213927Z",
     "shell.execute_reply": "2023-05-04T17:12:40.212951Z"
    },
    "papermill": {
     "duration": 0.028775,
     "end_time": "2023-05-04T17:12:40.215902",
     "exception": false,
     "start_time": "2023-05-04T17:12:40.187127",
     "status": "completed"
    },
    "tags": []
   },
   "outputs": [],
   "source": [
    "education_dic= {('graduated from high school','dropped out of high school', \n",
    "                 'working on high school','high school'): 'High school or less',\n",
    "                \n",
    "                ('working on two-year college','dropped out of space camp',\n",
    "                'two-year college', 'graduated from two-year college',\n",
    "                'dropped out of college/university','dropped out of two-year college', \n",
    "                 'dropped out of med school', 'dropped out of law school'): 'Some college',\n",
    "                \n",
    "                ('working on college/university', 'working on space camp',\n",
    "                'graduated from masters program','graduated from college/university',\n",
    "                'working on masters program','graduated from space camp',\n",
    "                'college/university','graduated from law school', \n",
    "                 'working on ph.d program','space camp', \n",
    "                 'graduated from med school','working on med school',\n",
    "                'masters program', 'dropped out of ph.d program',\n",
    "                'law school','dropped out of masters program',\n",
    "                'working on law school', 'med school') : 'College or more', \n",
    "                \n",
    "                ('graduated from ph.d program','ph.d program'): 'Post graduate degree'}\n",
    "                "
   ]
  },
  {
   "cell_type": "code",
   "execution_count": 35,
   "id": "e66f535d",
   "metadata": {
    "execution": {
     "iopub.execute_input": "2023-05-04T17:12:40.256462Z",
     "iopub.status.busy": "2023-05-04T17:12:40.256026Z",
     "iopub.status.idle": "2023-05-04T17:12:40.327260Z",
     "shell.execute_reply": "2023-05-04T17:12:40.326454Z"
    },
    "papermill": {
     "duration": 0.094207,
     "end_time": "2023-05-04T17:12:40.329519",
     "exception": false,
     "start_time": "2023-05-04T17:12:40.235312",
     "status": "completed"
    },
    "scrolled": true,
    "tags": []
   },
   "outputs": [],
   "source": [
    "df['education_'] = df.education.apply(map_cat,args=(education_dic,)).astype(education_categories)"
   ]
  },
  {
   "cell_type": "markdown",
   "id": "aae2da9a",
   "metadata": {
    "papermill": {
     "duration": 0.019143,
     "end_time": "2023-05-04T17:12:40.368048",
     "exception": false,
     "start_time": "2023-05-04T17:12:40.348905",
     "status": "completed"
    },
    "tags": []
   },
   "source": [
    "Let's assign the median value of the category to the missing values of this feature."
   ]
  },
  {
   "cell_type": "code",
   "execution_count": 36,
   "id": "7e44d476",
   "metadata": {
    "execution": {
     "iopub.execute_input": "2023-05-04T17:12:40.408703Z",
     "iopub.status.busy": "2023-05-04T17:12:40.407710Z",
     "iopub.status.idle": "2023-05-04T17:12:40.414576Z",
     "shell.execute_reply": "2023-05-04T17:12:40.413560Z"
    },
    "papermill": {
     "duration": 0.029223,
     "end_time": "2023-05-04T17:12:40.416567",
     "exception": false,
     "start_time": "2023-05-04T17:12:40.387344",
     "status": "completed"
    },
    "scrolled": true,
    "tags": []
   },
   "outputs": [],
   "source": [
    "df.education_ = df.education_.fillna(education_categories.\\\n",
    "                                    categories[int(np.median(df['education_'].cat.codes))]).\\\n",
    "                                    astype(education_categories)"
   ]
  },
  {
   "cell_type": "code",
   "execution_count": 37,
   "id": "676d2f67",
   "metadata": {
    "execution": {
     "iopub.execute_input": "2023-05-04T17:12:40.457016Z",
     "iopub.status.busy": "2023-05-04T17:12:40.456354Z",
     "iopub.status.idle": "2023-05-04T17:12:41.152543Z",
     "shell.execute_reply": "2023-05-04T17:12:41.151436Z"
    },
    "papermill": {
     "duration": 0.718934,
     "end_time": "2023-05-04T17:12:41.154809",
     "exception": false,
     "start_time": "2023-05-04T17:12:40.435875",
     "status": "completed"
    },
    "tags": []
   },
   "outputs": [
    {
     "data": {
      "image/png": "[encoded data removed]",
      "text/plain": [
       "<Figure size 1400x500 with 2 Axes>"
      ]
     },
     "metadata": {},
     "output_type": "display_data"
    }
   ],
   "source": [
    "sns.set_style(\"darkgrid\")\n",
    "cat_cols = ['body_type_','education_']\n",
    "titles = ['Body Type', 'Education']\n",
    "fig4, ax4 = plt.subplots(ncols=2, figsize=(14,5),sharey=True)\n",
    "for i, col in enumerate(cat_cols):\n",
    "    sns.countplot(data=df, x=col, ax=ax4[i], hue='sex')\n",
    "    ax4[i].set(title = titles[i])\n",
    "fig4.savefig('figure_04.png')"
   ]
  },
  {
   "cell_type": "markdown",
   "id": "78a8d6c4",
   "metadata": {
    "papermill": {
     "duration": 0.020211,
     "end_time": "2023-05-04T17:12:41.195878",
     "exception": false,
     "start_time": "2023-05-04T17:12:41.175667",
     "status": "completed"
    },
    "tags": []
   },
   "source": [
    "### Drinks. Drugs. Smokes"
   ]
  },
  {
   "cell_type": "code",
   "execution_count": 38,
   "id": "b8973882",
   "metadata": {
    "execution": {
     "iopub.execute_input": "2023-05-04T17:12:41.238115Z",
     "iopub.status.busy": "2023-05-04T17:12:41.237462Z",
     "iopub.status.idle": "2023-05-04T17:12:41.250243Z",
     "shell.execute_reply": "2023-05-04T17:12:41.249137Z"
    },
    "papermill": {
     "duration": 0.03653,
     "end_time": "2023-05-04T17:12:41.252538",
     "exception": false,
     "start_time": "2023-05-04T17:12:41.216008",
     "status": "completed"
    },
    "scrolled": true,
    "tags": []
   },
   "outputs": [],
   "source": [
    "drinks_categories = CategoricalDtype(categories=['not at all','rarely','socially',\n",
    "                                                 'often','very often','desperately'],\n",
    "                                     ordered=True)\n",
    "df['drinks_'] = df.drinks.astype(drinks_categories)\n",
    "df.drinks_ = df.drinks_.fillna(drinks_categories.categories[int(np.median(df.drinks_.cat.codes))])"
   ]
  },
  {
   "cell_type": "code",
   "execution_count": 39,
   "id": "1610f6ee",
   "metadata": {
    "execution": {
     "iopub.execute_input": "2023-05-04T17:12:41.295327Z",
     "iopub.status.busy": "2023-05-04T17:12:41.294958Z",
     "iopub.status.idle": "2023-05-04T17:12:41.304059Z",
     "shell.execute_reply": "2023-05-04T17:12:41.303338Z"
    },
    "papermill": {
     "duration": 0.032837,
     "end_time": "2023-05-04T17:12:41.305847",
     "exception": false,
     "start_time": "2023-05-04T17:12:41.273010",
     "status": "completed"
    },
    "tags": []
   },
   "outputs": [
    {
     "data": {
      "text/plain": [
       "drugs\n",
       "never        37724\n",
       "NaN          14080\n",
       "sometimes     7732\n",
       "often          410\n",
       "Name: count, dtype: int64"
      ]
     },
     "execution_count": 39,
     "metadata": {},
     "output_type": "execute_result"
    }
   ],
   "source": [
    "df.drugs.value_counts(dropna=False)"
   ]
  },
  {
   "cell_type": "markdown",
   "id": "641de5ed",
   "metadata": {
    "papermill": {
     "duration": 0.019972,
     "end_time": "2023-05-04T17:12:41.346408",
     "exception": false,
     "start_time": "2023-05-04T17:12:41.326436",
     "status": "completed"
    },
    "tags": []
   },
   "source": [
    "In this case, 82% of the users declare that they never use drugs. Let's assume that we can fill the missing values with 'never'"
   ]
  },
  {
   "cell_type": "code",
   "execution_count": 40,
   "id": "707aa681",
   "metadata": {
    "execution": {
     "iopub.execute_input": "2023-05-04T17:12:41.388805Z",
     "iopub.status.busy": "2023-05-04T17:12:41.388157Z",
     "iopub.status.idle": "2023-05-04T17:12:41.404357Z",
     "shell.execute_reply": "2023-05-04T17:12:41.403571Z"
    },
    "papermill": {
     "duration": 0.040101,
     "end_time": "2023-05-04T17:12:41.406746",
     "exception": false,
     "start_time": "2023-05-04T17:12:41.366645",
     "status": "completed"
    },
    "scrolled": true,
    "tags": []
   },
   "outputs": [],
   "source": [
    "df['drugs_'] = df.drugs.fillna('never')\n",
    "df.drugs_.value_counts(dropna=False)\n",
    "df.drugs_ = pd.Categorical(df.drugs_, categories=['never', 'sometimes','often'], ordered=True)"
   ]
  },
  {
   "cell_type": "code",
   "execution_count": 41,
   "id": "c78ba167",
   "metadata": {
    "execution": {
     "iopub.execute_input": "2023-05-04T17:12:41.450130Z",
     "iopub.status.busy": "2023-05-04T17:12:41.449510Z",
     "iopub.status.idle": "2023-05-04T17:12:41.458520Z",
     "shell.execute_reply": "2023-05-04T17:12:41.457589Z"
    },
    "papermill": {
     "duration": 0.033062,
     "end_time": "2023-05-04T17:12:41.460551",
     "exception": false,
     "start_time": "2023-05-04T17:12:41.427489",
     "status": "completed"
    },
    "scrolled": true,
    "tags": []
   },
   "outputs": [
    {
     "data": {
      "text/plain": [
       "smokes\n",
       "no                43896\n",
       "NaN                5512\n",
       "sometimes          3787\n",
       "when drinking      3040\n",
       "yes                2231\n",
       "trying to quit     1480\n",
       "Name: count, dtype: int64"
      ]
     },
     "execution_count": 41,
     "metadata": {},
     "output_type": "execute_result"
    }
   ],
   "source": [
    "df.smokes.value_counts(dropna=False)"
   ]
  },
  {
   "cell_type": "markdown",
   "id": "6e0b225f",
   "metadata": {
    "papermill": {
     "duration": 0.019952,
     "end_time": "2023-05-04T17:12:41.501197",
     "exception": false,
     "start_time": "2023-05-04T17:12:41.481245",
     "status": "completed"
    },
    "tags": []
   },
   "source": [
    "We apply the same criteria as before, filling missing values with 'no'."
   ]
  },
  {
   "cell_type": "code",
   "execution_count": 42,
   "id": "59640680",
   "metadata": {
    "execution": {
     "iopub.execute_input": "2023-05-04T17:12:41.544426Z",
     "iopub.status.busy": "2023-05-04T17:12:41.543735Z",
     "iopub.status.idle": "2023-05-04T17:12:41.603147Z",
     "shell.execute_reply": "2023-05-04T17:12:41.602028Z"
    },
    "papermill": {
     "duration": 0.083849,
     "end_time": "2023-05-04T17:12:41.605641",
     "exception": false,
     "start_time": "2023-05-04T17:12:41.521792",
     "status": "completed"
    },
    "tags": []
   },
   "outputs": [
    {
     "data": {
      "text/plain": [
       "smokes_\n",
       "no           49408\n",
       "sometimes     8307\n",
       "yes           2231\n",
       "Name: count, dtype: int64"
      ]
     },
     "execution_count": 42,
     "metadata": {},
     "output_type": "execute_result"
    }
   ],
   "source": [
    "smokes_dic = {('no',):'no',\n",
    "             ('sometimes', 'when drinking', 'trying to quit'):'sometimes',\n",
    "              ('yes',):'yes'}\n",
    "smokes_categories = CategoricalDtype(categories=['no', 'sometimes', 'yes'],ordered=True)\n",
    "df['smokes_'] = df.smokes.apply(map_cat, args=(smokes_dic,)).astype(smokes_categories)\n",
    "df.smokes_ = df.smokes_.fillna('no').astype(smokes_categories)\n",
    "df.smokes_.value_counts(dropna=False).sort_index()"
   ]
  },
  {
   "cell_type": "code",
   "execution_count": 43,
   "id": "69867762",
   "metadata": {
    "execution": {
     "iopub.execute_input": "2023-05-04T17:12:41.648344Z",
     "iopub.status.busy": "2023-05-04T17:12:41.647954Z",
     "iopub.status.idle": "2023-05-04T17:12:42.707460Z",
     "shell.execute_reply": "2023-05-04T17:12:42.706641Z"
    },
    "papermill": {
     "duration": 1.083147,
     "end_time": "2023-05-04T17:12:42.709318",
     "exception": false,
     "start_time": "2023-05-04T17:12:41.626171",
     "status": "completed"
    },
    "tags": []
   },
   "outputs": [
    {
     "data": {
      "image/png": "[encoded data removed]",
      "text/plain": [
       "<Figure size 1400x600 with 3 Axes>"
      ]
     },
     "metadata": {},
     "output_type": "display_data"
    }
   ],
   "source": [
    "sns.set_style(\"darkgrid\")\n",
    "cat_cols = ['drinks_', 'drugs_', 'smokes_']\n",
    "titles = ['Drinks', 'Drugs', 'Smokes']\n",
    "xlabels = [ list(drinks_categories.categories), ['never', 'sometimes','often'], list(smokes_categories.categories) ]\n",
    "ticks = [6, 3, 3]\n",
    "fig5, ax5 = plt.subplots(ncols=3, figsize=(14,6),sharey=True)\n",
    "for i, col in enumerate(cat_cols):\n",
    "    sns.countplot(data=df, x=col, ax=ax5[i], hue='sex')\n",
    "    ax5[i].set(title = titles[i], xticks = range(len(xlabels[i])) ,xlabel='', ylabel='')\n",
    "    ax5[i].set_xticklabels(labels = xlabels[i], rotation=60,fontsize=12) \n",
    "fig5.tight_layout()\n",
    "fig5.savefig('figure_05.png')"
   ]
  },
  {
   "cell_type": "markdown",
   "id": "4ff8ed52",
   "metadata": {
    "papermill": {
     "duration": 0.020585,
     "end_time": "2023-05-04T17:12:42.750893",
     "exception": false,
     "start_time": "2023-05-04T17:12:42.730308",
     "status": "completed"
    },
    "tags": []
   },
   "source": [
    "### Pets"
   ]
  },
  {
   "cell_type": "code",
   "execution_count": 44,
   "id": "c14b647f",
   "metadata": {
    "execution": {
     "iopub.execute_input": "2023-05-04T17:12:42.805161Z",
     "iopub.status.busy": "2023-05-04T17:12:42.804377Z",
     "iopub.status.idle": "2023-05-04T17:12:42.817199Z",
     "shell.execute_reply": "2023-05-04T17:12:42.815936Z"
    },
    "papermill": {
     "duration": 0.046728,
     "end_time": "2023-05-04T17:12:42.820354",
     "exception": false,
     "start_time": "2023-05-04T17:12:42.773626",
     "status": "completed"
    },
    "scrolled": true,
    "tags": []
   },
   "outputs": [
    {
     "data": {
      "text/plain": [
       "pets\n",
       "NaN                                19921\n",
       "likes dogs and likes cats          14814\n",
       "likes dogs                          7224\n",
       "likes dogs and has cats             4313\n",
       "has dogs                            4134\n",
       "has dogs and likes cats             2333\n",
       "likes dogs and dislikes cats        2029\n",
       "has dogs and has cats               1474\n",
       "has cats                            1406\n",
       "likes cats                          1063\n",
       "has dogs and dislikes cats           552\n",
       "dislikes dogs and likes cats         240\n",
       "dislikes dogs and dislikes cats      196\n",
       "dislikes cats                        122\n",
       "dislikes dogs and has cats            81\n",
       "dislikes dogs                         44\n",
       "Name: count, dtype: int64"
      ]
     },
     "execution_count": 44,
     "metadata": {},
     "output_type": "execute_result"
    }
   ],
   "source": [
    "df.pets.value_counts(dropna=False)"
   ]
  },
  {
   "cell_type": "markdown",
   "id": "12cb43dc",
   "metadata": {
    "papermill": {
     "duration": 0.024146,
     "end_time": "2023-05-04T17:12:42.871223",
     "exception": false,
     "start_time": "2023-05-04T17:12:42.847077",
     "status": "completed"
    },
    "tags": []
   },
   "source": [
    "It makes sense to create **two new columns: likes_dogs, likes_cats**. We assign 1 if the user has or likes the corresponding kind of pet, and 0 if he does not. Let's assign a 0 in case of missing values (np.NaN), in order to be in the safe zone on regards this feature.          "
   ]
  },
  {
   "cell_type": "code",
   "execution_count": 45,
   "id": "b2176c3d",
   "metadata": {
    "execution": {
     "iopub.execute_input": "2023-05-04T17:12:42.916164Z",
     "iopub.status.busy": "2023-05-04T17:12:42.915581Z",
     "iopub.status.idle": "2023-05-04T17:12:42.942813Z",
     "shell.execute_reply": "2023-05-04T17:12:42.941725Z"
    },
    "papermill": {
     "duration": 0.052694,
     "end_time": "2023-05-04T17:12:42.945356",
     "exception": false,
     "start_time": "2023-05-04T17:12:42.892662",
     "status": "completed"
    },
    "scrolled": true,
    "tags": []
   },
   "outputs": [],
   "source": [
    "df.pets = df.pets.fillna('No')"
   ]
  },
  {
   "cell_type": "code",
   "execution_count": 46,
   "id": "b2e3caff",
   "metadata": {
    "execution": {
     "iopub.execute_input": "2023-05-04T17:12:42.990456Z",
     "iopub.status.busy": "2023-05-04T17:12:42.990026Z",
     "iopub.status.idle": "2023-05-04T17:12:42.996530Z",
     "shell.execute_reply": "2023-05-04T17:12:42.995349Z"
    },
    "papermill": {
     "duration": 0.03142,
     "end_time": "2023-05-04T17:12:42.998659",
     "exception": false,
     "start_time": "2023-05-04T17:12:42.967239",
     "status": "completed"
    },
    "scrolled": true,
    "tags": []
   },
   "outputs": [],
   "source": [
    "def likes_pet(s, species):\n",
    "    dogs_regex = re.compile(r'((?<!dis)likes |has )dogs')\n",
    "    cats_regex = re.compile(r'((?<!dis)likes |has )cats')\n",
    "    if species == 'dog':\n",
    "        return 'Yes' if bool(dogs_regex.search(s)) else 'No'\n",
    "    elif species == 'cat':\n",
    "        return 'Yes' if bool(cats_regex.search(s)) else 'No'\n",
    "    else:\n",
    "        return 'No'"
   ]
  },
  {
   "cell_type": "code",
   "execution_count": 47,
   "id": "e4aea844",
   "metadata": {
    "execution": {
     "iopub.execute_input": "2023-05-04T17:12:43.043023Z",
     "iopub.status.busy": "2023-05-04T17:12:43.042651Z",
     "iopub.status.idle": "2023-05-04T17:12:43.330492Z",
     "shell.execute_reply": "2023-05-04T17:12:43.329571Z"
    },
    "papermill": {
     "duration": 0.312716,
     "end_time": "2023-05-04T17:12:43.332852",
     "exception": false,
     "start_time": "2023-05-04T17:12:43.020136",
     "status": "completed"
    },
    "scrolled": true,
    "tags": []
   },
   "outputs": [],
   "source": [
    "df['likes_dogs_'] = df.pets.apply(likes_pet,args = ('dog',))\n",
    "df['likes_cats_'] = df.pets.apply(likes_pet,args = ('cat',))\n",
    "df['likes_dogs_'] = pd.Categorical(df.likes_dogs_,categories=['No', 'Yes'],ordered=True)\n",
    "df['likes_cats_'] = pd.Categorical(df.likes_cats_,categories=['No', 'Yes'],ordered=True)"
   ]
  },
  {
   "cell_type": "code",
   "execution_count": 48,
   "id": "5fdb2ebb",
   "metadata": {
    "execution": {
     "iopub.execute_input": "2023-05-04T17:12:43.377800Z",
     "iopub.status.busy": "2023-05-04T17:12:43.376764Z",
     "iopub.status.idle": "2023-05-04T17:12:44.001390Z",
     "shell.execute_reply": "2023-05-04T17:12:44.000282Z"
    },
    "papermill": {
     "duration": 0.649615,
     "end_time": "2023-05-04T17:12:44.003848",
     "exception": false,
     "start_time": "2023-05-04T17:12:43.354233",
     "status": "completed"
    },
    "tags": []
   },
   "outputs": [
    {
     "data": {
      "image/png": "[encoded data removed]",
      "text/plain": [
       "<Figure size 1400x500 with 2 Axes>"
      ]
     },
     "metadata": {},
     "output_type": "display_data"
    }
   ],
   "source": [
    "sns.set_style(\"darkgrid\")\n",
    "cat_cols = ['likes_dogs_', 'likes_cats_']\n",
    "titles=['Likes Dogs', 'Likes Cats']\n",
    "fig6, ax6 = plt.subplots(ncols=2, figsize=(14,5),sharey=True)\n",
    "for i, col in enumerate(cat_cols):\n",
    "    sns.countplot(data=df, x=col, ax=ax6[i], hue='sex', width=0.5)\n",
    "    ax6[i].set(title = titles[i],xlabel='', ylabel='')\n",
    "fig6.savefig('figure_06.png')"
   ]
  },
  {
   "cell_type": "markdown",
   "id": "988606c9",
   "metadata": {
    "papermill": {
     "duration": 0.022099,
     "end_time": "2023-05-04T17:12:44.048103",
     "exception": false,
     "start_time": "2023-05-04T17:12:44.026004",
     "status": "completed"
    },
    "tags": []
   },
   "source": [
    "## Clustering Users. Unsupervised Learning\n",
    "\n",
    "Now we have the features of interest as numerical values. And we can use a clustering algorithm in order to form groups of users with affinity. In this case we are going to apply k-means clustering with scikit-learn."
   ]
  },
  {
   "cell_type": "code",
   "execution_count": 59,
   "id": "b4d51bfe",
   "metadata": {},
   "outputs": [],
   "source": [
    "## export the pre-processed data for Unsupervised learning\n",
    "features = ['age', 'height', 'body_type_', 'education_', 'drinks_', 'drugs_', 'smokes_', 'likes_dogs_', 'likes_cats_']\n",
    "df.to_csv('okcupid_profiles_preprocessed.csv', index=False)"
   ]
  },
  {
   "cell_type": "code",
   "execution_count": 49,
   "id": "1bfa76e3",
   "metadata": {
    "execution": {
     "iopub.execute_input": "2023-05-04T17:12:44.094144Z",
     "iopub.status.busy": "2023-05-04T17:12:44.093726Z",
     "iopub.status.idle": "2023-05-04T17:12:44.098866Z",
     "shell.execute_reply": "2023-05-04T17:12:44.097735Z"
    },
    "papermill": {
     "duration": 0.030976,
     "end_time": "2023-05-04T17:12:44.101108",
     "exception": false,
     "start_time": "2023-05-04T17:12:44.070132",
     "status": "completed"
    },
    "tags": []
   },
   "outputs": [],
   "source": [
    "features = ['age', 'height', 'body_type_', 'education_', 'drinks_', 'drugs_', 'smokes_', 'likes_dogs_', 'likes_cats_']"
   ]
  },
  {
   "cell_type": "code",
   "execution_count": 50,
   "id": "f5ef5f7a",
   "metadata": {
    "execution": {
     "iopub.execute_input": "2023-05-04T17:12:44.148009Z",
     "iopub.status.busy": "2023-05-04T17:12:44.147625Z",
     "iopub.status.idle": "2023-05-04T17:12:44.254448Z",
     "shell.execute_reply": "2023-05-04T17:12:44.253356Z"
    },
    "papermill": {
     "duration": 0.13314,
     "end_time": "2023-05-04T17:12:44.256746",
     "exception": false,
     "start_time": "2023-05-04T17:12:44.123606",
     "status": "completed"
    },
    "scrolled": true,
    "tags": []
   },
   "outputs": [
    {
     "data": {
      "text/html": [
       "<div>\n",
       "<style scoped>\n",
       "    .dataframe tbody tr th:only-of-type {\n",
       "        vertical-align: middle;\n",
       "    }\n",
       "\n",
       "    .dataframe tbody tr th {\n",
       "        vertical-align: top;\n",
       "    }\n",
       "\n",
       "    .dataframe thead th {\n",
       "        text-align: right;\n",
       "    }\n",
       "</style>\n",
       "<table border=\"1\" class=\"dataframe\">\n",
       "  <thead>\n",
       "    <tr style=\"text-align: right;\">\n",
       "      <th></th>\n",
       "      <th>age</th>\n",
       "      <th>height</th>\n",
       "    </tr>\n",
       "  </thead>\n",
       "  <tbody>\n",
       "    <tr>\n",
       "      <th>0</th>\n",
       "      <td>22</td>\n",
       "      <td>190.0</td>\n",
       "    </tr>\n",
       "    <tr>\n",
       "      <th>1</th>\n",
       "      <td>35</td>\n",
       "      <td>178.0</td>\n",
       "    </tr>\n",
       "    <tr>\n",
       "      <th>2</th>\n",
       "      <td>38</td>\n",
       "      <td>173.0</td>\n",
       "    </tr>\n",
       "    <tr>\n",
       "      <th>3</th>\n",
       "      <td>23</td>\n",
       "      <td>180.0</td>\n",
       "    </tr>\n",
       "    <tr>\n",
       "      <th>4</th>\n",
       "      <td>29</td>\n",
       "      <td>168.0</td>\n",
       "    </tr>\n",
       "  </tbody>\n",
       "</table>\n",
       "</div>"
      ],
      "text/plain": [
       "   age  height\n",
       "0   22   190.0\n",
       "1   35   178.0\n",
       "2   38   173.0\n",
       "3   23   180.0\n",
       "4   29   168.0"
      ]
     },
     "execution_count": 50,
     "metadata": {},
     "output_type": "execute_result"
    }
   ],
   "source": [
    "X = df[features[0:2]].copy()\n",
    "X.head()"
   ]
  },
  {
   "cell_type": "markdown",
   "id": "c88338c3",
   "metadata": {
    "papermill": {
     "duration": 0.0217,
     "end_time": "2023-05-04T17:12:44.301715",
     "exception": false,
     "start_time": "2023-05-04T17:12:44.280015",
     "status": "completed"
    },
    "tags": []
   },
   "source": [
    "### Preparing numerical data"
   ]
  },
  {
   "cell_type": "markdown",
   "id": "003992c0",
   "metadata": {
    "papermill": {
     "duration": 0.021789,
     "end_time": "2023-05-04T17:12:44.345530",
     "exception": false,
     "start_time": "2023-05-04T17:12:44.323741",
     "status": "completed"
    },
    "tags": []
   },
   "source": [
    "Now we transform the categorical data into numerical data, using the attribute cat.codes of the categorical features. "
   ]
  },
  {
   "cell_type": "code",
   "execution_count": 54,
   "id": "a30eda02",
   "metadata": {
    "execution": {
     "iopub.execute_input": "2023-05-04T17:12:44.391546Z",
     "iopub.status.busy": "2023-05-04T17:12:44.391141Z",
     "iopub.status.idle": "2023-05-04T17:12:45.022150Z",
     "shell.execute_reply": "2023-05-04T17:12:45.021161Z"
    },
    "papermill": {
     "duration": 0.6572,
     "end_time": "2023-05-04T17:12:45.024763",
     "exception": false,
     "start_time": "2023-05-04T17:12:44.367563",
     "status": "completed"
    },
    "tags": []
   },
   "outputs": [],
   "source": [
    "for feat in features[2:]:\n",
    "    X[feat] = df[feat].cat.codes\n",
    "\n",
    "from sklearn.cluster import KMeans\n",
    "from sklearn.preprocessing import StandardScaler\n",
    "\n",
    "scaler = StandardScaler()\n",
    "scaler.set_output(transform='pandas')\n",
    "\n",
    "X_scaled = scaler.fit_transform(X)"
   ]
  },
  {
   "cell_type": "code",
   "execution_count": 55,
   "id": "02a62a15",
   "metadata": {},
   "outputs": [
    {
     "data": {
      "text/html": [
       "<div>\n",
       "<style scoped>\n",
       "    .dataframe tbody tr th:only-of-type {\n",
       "        vertical-align: middle;\n",
       "    }\n",
       "\n",
       "    .dataframe tbody tr th {\n",
       "        vertical-align: top;\n",
       "    }\n",
       "\n",
       "    .dataframe thead th {\n",
       "        text-align: right;\n",
       "    }\n",
       "</style>\n",
       "<table border=\"1\" class=\"dataframe\">\n",
       "  <thead>\n",
       "    <tr style=\"text-align: right;\">\n",
       "      <th></th>\n",
       "      <th>age</th>\n",
       "      <th>height</th>\n",
       "      <th>body_type_</th>\n",
       "      <th>education_</th>\n",
       "      <th>drinks_</th>\n",
       "      <th>drugs_</th>\n",
       "      <th>smokes_</th>\n",
       "      <th>likes_dogs_</th>\n",
       "      <th>likes_cats_</th>\n",
       "    </tr>\n",
       "  </thead>\n",
       "  <tbody>\n",
       "    <tr>\n",
       "      <th>0</th>\n",
       "      <td>-1.093898</td>\n",
       "      <td>1.636195</td>\n",
       "      <td>2.016104</td>\n",
       "      <td>0.249911</td>\n",
       "      <td>0.131148</td>\n",
       "      <td>-0.386863</td>\n",
       "      <td>1.599558</td>\n",
       "      <td>0.791039</td>\n",
       "      <td>1.153409</td>\n",
       "    </tr>\n",
       "    <tr>\n",
       "      <th>1</th>\n",
       "      <td>0.281370</td>\n",
       "      <td>0.449117</td>\n",
       "      <td>-0.024475</td>\n",
       "      <td>0.249911</td>\n",
       "      <td>1.581927</td>\n",
       "      <td>2.324884</td>\n",
       "      <td>-0.432939</td>\n",
       "      <td>0.791039</td>\n",
       "      <td>1.153409</td>\n",
       "    </tr>\n",
       "    <tr>\n",
       "      <th>2</th>\n",
       "      <td>0.598740</td>\n",
       "      <td>-0.045499</td>\n",
       "      <td>-2.065054</td>\n",
       "      <td>0.249911</td>\n",
       "      <td>0.131148</td>\n",
       "      <td>-0.386863</td>\n",
       "      <td>-0.432939</td>\n",
       "      <td>-1.264160</td>\n",
       "      <td>1.153409</td>\n",
       "    </tr>\n",
       "    <tr>\n",
       "      <th>3</th>\n",
       "      <td>-0.988108</td>\n",
       "      <td>0.646963</td>\n",
       "      <td>-2.065054</td>\n",
       "      <td>0.249911</td>\n",
       "      <td>0.131148</td>\n",
       "      <td>-0.386863</td>\n",
       "      <td>-0.432939</td>\n",
       "      <td>-1.264160</td>\n",
       "      <td>1.153409</td>\n",
       "    </tr>\n",
       "    <tr>\n",
       "      <th>4</th>\n",
       "      <td>-0.353369</td>\n",
       "      <td>-0.540115</td>\n",
       "      <td>-0.024475</td>\n",
       "      <td>0.249911</td>\n",
       "      <td>0.131148</td>\n",
       "      <td>-0.386863</td>\n",
       "      <td>-0.432939</td>\n",
       "      <td>0.791039</td>\n",
       "      <td>1.153409</td>\n",
       "    </tr>\n",
       "    <tr>\n",
       "      <th>...</th>\n",
       "      <td>...</td>\n",
       "      <td>...</td>\n",
       "      <td>...</td>\n",
       "      <td>...</td>\n",
       "      <td>...</td>\n",
       "      <td>...</td>\n",
       "      <td>...</td>\n",
       "      <td>...</td>\n",
       "      <td>...</td>\n",
       "    </tr>\n",
       "    <tr>\n",
       "      <th>59941</th>\n",
       "      <td>2.820327</td>\n",
       "      <td>-1.628271</td>\n",
       "      <td>-0.024475</td>\n",
       "      <td>0.249911</td>\n",
       "      <td>0.131148</td>\n",
       "      <td>-0.386863</td>\n",
       "      <td>-0.432939</td>\n",
       "      <td>0.791039</td>\n",
       "      <td>-0.866995</td>\n",
       "    </tr>\n",
       "    <tr>\n",
       "      <th>59942</th>\n",
       "      <td>-0.882318</td>\n",
       "      <td>0.943732</td>\n",
       "      <td>-0.024475</td>\n",
       "      <td>0.249911</td>\n",
       "      <td>1.581927</td>\n",
       "      <td>2.324884</td>\n",
       "      <td>-0.432939</td>\n",
       "      <td>0.791039</td>\n",
       "      <td>1.153409</td>\n",
       "    </tr>\n",
       "    <tr>\n",
       "      <th>59943</th>\n",
       "      <td>1.021900</td>\n",
       "      <td>0.646963</td>\n",
       "      <td>-0.024475</td>\n",
       "      <td>0.249911</td>\n",
       "      <td>-2.770412</td>\n",
       "      <td>-0.386863</td>\n",
       "      <td>-0.432939</td>\n",
       "      <td>-1.264160</td>\n",
       "      <td>-0.866995</td>\n",
       "    </tr>\n",
       "    <tr>\n",
       "      <th>59944</th>\n",
       "      <td>-0.564949</td>\n",
       "      <td>1.141579</td>\n",
       "      <td>-0.024475</td>\n",
       "      <td>0.249911</td>\n",
       "      <td>0.131148</td>\n",
       "      <td>5.036631</td>\n",
       "      <td>1.599558</td>\n",
       "      <td>0.791039</td>\n",
       "      <td>1.153409</td>\n",
       "    </tr>\n",
       "    <tr>\n",
       "      <th>59945</th>\n",
       "      <td>0.704530</td>\n",
       "      <td>-0.045499</td>\n",
       "      <td>-0.024475</td>\n",
       "      <td>0.249911</td>\n",
       "      <td>0.131148</td>\n",
       "      <td>-0.386863</td>\n",
       "      <td>1.599558</td>\n",
       "      <td>0.791039</td>\n",
       "      <td>1.153409</td>\n",
       "    </tr>\n",
       "  </tbody>\n",
       "</table>\n",
       "<p>59946 rows × 9 columns</p>\n",
       "</div>"
      ],
      "text/plain": [
       "            age    height  body_type_  education_   drinks_    drugs_  \\\n",
       "0     -1.093898  1.636195    2.016104    0.249911  0.131148 -0.386863   \n",
       "1      0.281370  0.449117   -0.024475    0.249911  1.581927  2.324884   \n",
       "2      0.598740 -0.045499   -2.065054    0.249911  0.131148 -0.386863   \n",
       "3     -0.988108  0.646963   -2.065054    0.249911  0.131148 -0.386863   \n",
       "4     -0.353369 -0.540115   -0.024475    0.249911  0.131148 -0.386863   \n",
       "...         ...       ...         ...         ...       ...       ...   \n",
       "59941  2.820327 -1.628271   -0.024475    0.249911  0.131148 -0.386863   \n",
       "59942 -0.882318  0.943732   -0.024475    0.249911  1.581927  2.324884   \n",
       "59943  1.021900  0.646963   -0.024475    0.249911 -2.770412 -0.386863   \n",
       "59944 -0.564949  1.141579   -0.024475    0.249911  0.131148  5.036631   \n",
       "59945  0.704530 -0.045499   -0.024475    0.249911  0.131148 -0.386863   \n",
       "\n",
       "        smokes_  likes_dogs_  likes_cats_  \n",
       "0      1.599558     0.791039     1.153409  \n",
       "1     -0.432939     0.791039     1.153409  \n",
       "2     -0.432939    -1.264160     1.153409  \n",
       "3     -0.432939    -1.264160     1.153409  \n",
       "4     -0.432939     0.791039     1.153409  \n",
       "...         ...          ...          ...  \n",
       "59941 -0.432939     0.791039    -0.866995  \n",
       "59942 -0.432939     0.791039     1.153409  \n",
       "59943 -0.432939    -1.264160    -0.866995  \n",
       "59944  1.599558     0.791039     1.153409  \n",
       "59945  1.599558     0.791039     1.153409  \n",
       "\n",
       "[59946 rows x 9 columns]"
      ]
     },
     "execution_count": 55,
     "metadata": {},
     "output_type": "execute_result"
    }
   ],
   "source": [
    "X_scaled"
   ]
  },
  {
   "cell_type": "markdown",
   "id": "faa53732",
   "metadata": {
    "papermill": {
     "duration": 0.02214,
     "end_time": "2023-05-04T17:12:45.069840",
     "exception": false,
     "start_time": "2023-05-04T17:12:45.047700",
     "status": "completed"
    },
    "tags": []
   },
   "source": [
    "### Inertia\n",
    "\n",
    "As per [sklearn documentation](https://scikit-learn.org/dev/modules/generated/sklearn.cluster.KMeans.html), inertia is the _sum of squared distances of samples to their closest cluster center_."
   ]
  },
  {
   "cell_type": "code",
   "execution_count": 38,
   "id": "4ba42792",
   "metadata": {
    "execution": {
     "iopub.execute_input": "2023-05-04T17:12:45.116649Z",
     "iopub.status.busy": "2023-05-04T17:12:45.115670Z",
     "iopub.status.idle": "2023-05-04T17:12:49.009501Z",
     "shell.execute_reply": "2023-05-04T17:12:49.008460Z"
    },
    "papermill": {
     "duration": 3.920031,
     "end_time": "2023-05-04T17:12:49.012150",
     "exception": false,
     "start_time": "2023-05-04T17:12:45.092119",
     "status": "completed"
    },
    "tags": []
   },
   "outputs": [],
   "source": [
    "num_clusters=list(np.arange(1, 21))\n",
    "\n",
    "inertias = []\n",
    "\n",
    "for k in num_clusters:\n",
    "  model = KMeans(n_clusters = k, n_init='auto')\n",
    "  model.fit(X_scaled)\n",
    "  inertias.append(model.inertia_)"
   ]
  },
  {
   "cell_type": "markdown",
   "id": "6b9eeaa4",
   "metadata": {
    "papermill": {
     "duration": 0.021279,
     "end_time": "2023-05-04T17:12:49.055365",
     "exception": false,
     "start_time": "2023-05-04T17:12:49.034086",
     "status": "completed"
    },
    "tags": []
   },
   "source": [
    "Now we plot the inertias list in order to find the optimal number of clusters. We are using the _elbow_ method: when inertia begins to decrease more slowly."
   ]
  },
  {
   "cell_type": "code",
   "execution_count": 39,
   "id": "8350feed",
   "metadata": {
    "execution": {
     "iopub.execute_input": "2023-05-04T17:12:49.100148Z",
     "iopub.status.busy": "2023-05-04T17:12:49.099789Z",
     "iopub.status.idle": "2023-05-04T17:12:49.681917Z",
     "shell.execute_reply": "2023-05-04T17:12:49.680930Z"
    },
    "papermill": {
     "duration": 0.607203,
     "end_time": "2023-05-04T17:12:49.684141",
     "exception": false,
     "start_time": "2023-05-04T17:12:49.076938",
     "status": "completed"
    },
    "tags": []
   },
   "outputs": [
    {
     "data": {
      "image/png": "[encoded data removed]",
      "text/plain": [
       "<Figure size 700x500 with 1 Axes>"
      ]
     },
     "metadata": {},
     "output_type": "display_data"
    }
   ],
   "source": [
    "fig7, ax7 = plt.subplots(figsize=(7, 5))\n",
    "\n",
    "ax7.plot(num_clusters, inertias, '-o')\n",
    "ax7.set(xticks=num_clusters, xlabel='clusters', title='Inertia')\n",
    "fig7.savefig('figure_07.png')"
   ]
  },
  {
   "cell_type": "markdown",
   "id": "fb3f4a7e",
   "metadata": {
    "papermill": {
     "duration": 0.02172,
     "end_time": "2023-05-04T17:12:49.728283",
     "exception": false,
     "start_time": "2023-05-04T17:12:49.706563",
     "status": "completed"
    },
    "tags": []
   },
   "source": [
    "##### The choice of the number of clusters is always a trade-off to minimise inertia and to keep the number of clusters as low as possible. In this case, it makes sense to choose **12** as the number of clusters.\n",
    "The sklearn algorithm assigns to each point (_user_) a label, found with the attribute labels_, that we assign to a new column **'membership'** in our dataframe."
   ]
  },
  {
   "cell_type": "code",
   "execution_count": null,
   "id": "ff503e2f",
   "metadata": {},
   "outputs": [],
   "source": []
  },
  {
   "cell_type": "code",
   "execution_count": 40,
   "id": "fb0353cf",
   "metadata": {
    "execution": {
     "iopub.execute_input": "2023-05-04T17:12:49.774814Z",
     "iopub.status.busy": "2023-05-04T17:12:49.774437Z",
     "iopub.status.idle": "2023-05-04T17:12:50.568221Z",
     "shell.execute_reply": "2023-05-04T17:12:50.567148Z"
    },
    "papermill": {
     "duration": 0.819965,
     "end_time": "2023-05-04T17:12:50.570526",
     "exception": false,
     "start_time": "2023-05-04T17:12:49.750561",
     "status": "completed"
    },
    "tags": []
   },
   "outputs": [
    {
     "data": {
      "image/png": "[encoded data removed]",
      "text/plain": [
       "<Figure size 700x500 with 1 Axes>"
      ]
     },
     "metadata": {},
     "output_type": "display_data"
    }
   ],
   "source": [
    "k = 12\n",
    "model = KMeans(n_clusters = k, n_init='auto')\n",
    "model.fit(X_scaled)\n",
    "df['membership'] = model.labels_\n",
    "df.membership.value_counts()\n",
    "\n",
    "fig8, ax8 = plt.subplots(figsize=(7, 5))\n",
    "\n",
    "sns.countplot(data=df, x='membership', ax=ax8, hue='sex')\n",
    "ax8.set(title = 'Users per cluster', ylabel='');\n",
    "fig8.savefig('figure_08.png')"
   ]
  },
  {
   "cell_type": "markdown",
   "id": "f74caaab",
   "metadata": {
    "papermill": {
     "duration": 0.022767,
     "end_time": "2023-05-04T17:12:50.616353",
     "exception": false,
     "start_time": "2023-05-04T17:12:50.593586",
     "status": "completed"
    },
    "tags": []
   },
   "source": [
    "## Lover recommendation. An example\n",
    "\n",
    "Features of interest we are considering:"
   ]
  },
  {
   "cell_type": "code",
   "execution_count": 41,
   "id": "b0d24c9f",
   "metadata": {
    "execution": {
     "iopub.execute_input": "2023-05-04T17:12:50.663656Z",
     "iopub.status.busy": "2023-05-04T17:12:50.663239Z",
     "iopub.status.idle": "2023-05-04T17:12:50.668117Z",
     "shell.execute_reply": "2023-05-04T17:12:50.667172Z"
    },
    "papermill": {
     "duration": 0.031073,
     "end_time": "2023-05-04T17:12:50.670297",
     "exception": false,
     "start_time": "2023-05-04T17:12:50.639224",
     "status": "completed"
    },
    "tags": []
   },
   "outputs": [],
   "source": [
    "features = ['age', 'height', 'sex', 'orientation', 'sex', 'orientation', 'body_type_', \n",
    " 'education_', 'drinks_', 'drugs_', 'smokes_', 'likes_dogs_', 'likes_cats_', \n",
    " 'membership']"
   ]
  },
  {
   "cell_type": "markdown",
   "id": "4f71fbed",
   "metadata": {
    "papermill": {
     "duration": 0.024251,
     "end_time": "2023-05-04T17:12:50.717684",
     "exception": false,
     "start_time": "2023-05-04T17:12:50.693433",
     "status": "completed"
    },
    "tags": []
   },
   "source": [
    "Let's say that we want to recommend profiles that user_id 42 can be interested in. This user is a male, with sexual orientation 'straight', and now is easy to find potential lovers for this user."
   ]
  },
  {
   "cell_type": "code",
   "execution_count": 42,
   "id": "696910b1",
   "metadata": {
    "execution": {
     "iopub.execute_input": "2023-05-04T17:12:50.764608Z",
     "iopub.status.busy": "2023-05-04T17:12:50.764212Z",
     "iopub.status.idle": "2023-05-04T17:12:50.784390Z",
     "shell.execute_reply": "2023-05-04T17:12:50.783339Z"
    },
    "papermill": {
     "duration": 0.046036,
     "end_time": "2023-05-04T17:12:50.786506",
     "exception": false,
     "start_time": "2023-05-04T17:12:50.740470",
     "status": "completed"
    },
    "tags": []
   },
   "outputs": [
    {
     "data": {
      "text/html": [
       "<div>\n",
       "<style scoped>\n",
       "    .dataframe tbody tr th:only-of-type {\n",
       "        vertical-align: middle;\n",
       "    }\n",
       "\n",
       "    .dataframe tbody tr th {\n",
       "        vertical-align: top;\n",
       "    }\n",
       "\n",
       "    .dataframe thead th {\n",
       "        text-align: right;\n",
       "    }\n",
       "</style>\n",
       "<table border=\"1\" class=\"dataframe\">\n",
       "  <thead>\n",
       "    <tr style=\"text-align: right;\">\n",
       "      <th></th>\n",
       "      <th>age</th>\n",
       "      <th>height</th>\n",
       "      <th>sex</th>\n",
       "      <th>orientation</th>\n",
       "      <th>sex</th>\n",
       "      <th>orientation</th>\n",
       "      <th>body_type_</th>\n",
       "      <th>education_</th>\n",
       "      <th>drinks_</th>\n",
       "      <th>drugs_</th>\n",
       "      <th>smokes_</th>\n",
       "      <th>likes_dogs_</th>\n",
       "      <th>likes_cats_</th>\n",
       "      <th>membership</th>\n",
       "    </tr>\n",
       "  </thead>\n",
       "  <tbody>\n",
       "    <tr>\n",
       "      <th>42</th>\n",
       "      <td>30</td>\n",
       "      <td>190.0</td>\n",
       "      <td>m</td>\n",
       "      <td>straight</td>\n",
       "      <td>m</td>\n",
       "      <td>straight</td>\n",
       "      <td>mesomorph</td>\n",
       "      <td>College or more</td>\n",
       "      <td>often</td>\n",
       "      <td>sometimes</td>\n",
       "      <td>no</td>\n",
       "      <td>No</td>\n",
       "      <td>No</td>\n",
       "      <td>3</td>\n",
       "    </tr>\n",
       "  </tbody>\n",
       "</table>\n",
       "</div>"
      ],
      "text/plain": [
       "    age  height sex orientation sex orientation body_type_       education_  \\\n",
       "42   30   190.0   m    straight   m    straight  mesomorph  College or more   \n",
       "\n",
       "   drinks_     drugs_ smokes_ likes_dogs_ likes_cats_  membership  \n",
       "42   often  sometimes      no          No          No           3  "
      ]
     },
     "execution_count": 42,
     "metadata": {},
     "output_type": "execute_result"
    }
   ],
   "source": [
    "df.loc[42:42,features]"
   ]
  },
  {
   "cell_type": "code",
   "execution_count": 43,
   "id": "afe8094e",
   "metadata": {
    "execution": {
     "iopub.execute_input": "2023-05-04T17:12:50.833921Z",
     "iopub.status.busy": "2023-05-04T17:12:50.833216Z",
     "iopub.status.idle": "2023-05-04T17:12:50.852651Z",
     "shell.execute_reply": "2023-05-04T17:12:50.851555Z"
    },
    "papermill": {
     "duration": 0.045476,
     "end_time": "2023-05-04T17:12:50.854865",
     "exception": false,
     "start_time": "2023-05-04T17:12:50.809389",
     "status": "completed"
    },
    "tags": []
   },
   "outputs": [
    {
     "name": "stdout",
     "output_type": "stream",
     "text": [
      "And so we have found 539 female users in the same cluster.\n",
      " \n"
     ]
    }
   ],
   "source": [
    "users = df.loc[(df.sex == 'f') & \n",
    "               (df.membership == df.at[42, 'membership']) & \n",
    "               (df.orientation == 'straight')].index\n",
    "print(f'And so we have found {len(users)} female users in the same cluster.\\n ')"
   ]
  },
  {
   "cell_type": "markdown",
   "id": "dcf01391",
   "metadata": {
    "papermill": {
     "duration": 0.022845,
     "end_time": "2023-05-04T17:12:50.902328",
     "exception": false,
     "start_time": "2023-05-04T17:12:50.879483",
     "status": "completed"
    },
    "tags": []
   },
   "source": [
    "### Distances\n",
    "Now we can prepare an ordered list based on affinitty. First of all we need to calculate the distance between user 42 and the rest of profiles we have just found. "
   ]
  },
  {
   "cell_type": "code",
   "execution_count": 44,
   "id": "12f3ef6d",
   "metadata": {
    "execution": {
     "iopub.execute_input": "2023-05-04T17:12:50.950978Z",
     "iopub.status.busy": "2023-05-04T17:12:50.949868Z",
     "iopub.status.idle": "2023-05-04T17:12:50.955292Z",
     "shell.execute_reply": "2023-05-04T17:12:50.954510Z"
    },
    "papermill": {
     "duration": 0.031836,
     "end_time": "2023-05-04T17:12:50.957202",
     "exception": false,
     "start_time": "2023-05-04T17:12:50.925366",
     "status": "completed"
    },
    "tags": []
   },
   "outputs": [],
   "source": [
    "def distance(row, user):\n",
    "    result = 0\n",
    "    for i, v in enumerate(row):\n",
    "        result += (v - user[i])**2\n",
    "    return result ** 0.5; "
   ]
  },
  {
   "cell_type": "code",
   "execution_count": 45,
   "id": "d6d45720",
   "metadata": {
    "_kg_hide-output": true,
    "execution": {
     "iopub.execute_input": "2023-05-04T17:12:51.006545Z",
     "iopub.status.busy": "2023-05-04T17:12:51.005777Z",
     "iopub.status.idle": "2023-05-04T17:12:51.028230Z",
     "shell.execute_reply": "2023-05-04T17:12:51.027431Z"
    },
    "papermill": {
     "duration": 0.049906,
     "end_time": "2023-05-04T17:12:51.030501",
     "exception": false,
     "start_time": "2023-05-04T17:12:50.980595",
     "status": "completed"
    },
    "tags": []
   },
   "outputs": [],
   "source": [
    "user = X_scaled.loc[42]\n",
    "distances = X_scaled.loc[users].apply(distance, axis = 1, args=(user,) ).sort_values();"
   ]
  },
  {
   "cell_type": "code",
   "execution_count": 46,
   "id": "fc318510",
   "metadata": {
    "execution": {
     "iopub.execute_input": "2023-05-04T17:12:51.078660Z",
     "iopub.status.busy": "2023-05-04T17:12:51.077947Z",
     "iopub.status.idle": "2023-05-04T17:12:51.096833Z",
     "shell.execute_reply": "2023-05-04T17:12:51.095770Z"
    },
    "papermill": {
     "duration": 0.045173,
     "end_time": "2023-05-04T17:12:51.098946",
     "exception": false,
     "start_time": "2023-05-04T17:12:51.053773",
     "status": "completed"
    },
    "scrolled": true,
    "tags": []
   },
   "outputs": [
    {
     "data": {
      "text/html": [
       "<div>\n",
       "<style scoped>\n",
       "    .dataframe tbody tr th:only-of-type {\n",
       "        vertical-align: middle;\n",
       "    }\n",
       "\n",
       "    .dataframe tbody tr th {\n",
       "        vertical-align: top;\n",
       "    }\n",
       "\n",
       "    .dataframe thead th {\n",
       "        text-align: right;\n",
       "    }\n",
       "</style>\n",
       "<table border=\"1\" class=\"dataframe\">\n",
       "  <thead>\n",
       "    <tr style=\"text-align: right;\">\n",
       "      <th></th>\n",
       "      <th>age</th>\n",
       "      <th>height</th>\n",
       "      <th>sex</th>\n",
       "      <th>orientation</th>\n",
       "      <th>sex</th>\n",
       "      <th>orientation</th>\n",
       "      <th>body_type_</th>\n",
       "      <th>education_</th>\n",
       "      <th>drinks_</th>\n",
       "      <th>drugs_</th>\n",
       "      <th>smokes_</th>\n",
       "      <th>likes_dogs_</th>\n",
       "      <th>likes_cats_</th>\n",
       "      <th>membership</th>\n",
       "    </tr>\n",
       "  </thead>\n",
       "  <tbody>\n",
       "    <tr>\n",
       "      <th>42</th>\n",
       "      <td>30</td>\n",
       "      <td>190.0</td>\n",
       "      <td>m</td>\n",
       "      <td>straight</td>\n",
       "      <td>m</td>\n",
       "      <td>straight</td>\n",
       "      <td>mesomorph</td>\n",
       "      <td>College or more</td>\n",
       "      <td>often</td>\n",
       "      <td>sometimes</td>\n",
       "      <td>no</td>\n",
       "      <td>No</td>\n",
       "      <td>No</td>\n",
       "      <td>3</td>\n",
       "    </tr>\n",
       "  </tbody>\n",
       "</table>\n",
       "</div>"
      ],
      "text/plain": [
       "    age  height sex orientation sex orientation body_type_       education_  \\\n",
       "42   30   190.0   m    straight   m    straight  mesomorph  College or more   \n",
       "\n",
       "   drinks_     drugs_ smokes_ likes_dogs_ likes_cats_  membership  \n",
       "42   often  sometimes      no          No          No           3  "
      ]
     },
     "execution_count": 46,
     "metadata": {},
     "output_type": "execute_result"
    }
   ],
   "source": [
    "df.loc[42:42, features]"
   ]
  },
  {
   "cell_type": "code",
   "execution_count": 47,
   "id": "e4b9006f",
   "metadata": {
    "collapsed": true,
    "execution": {
     "iopub.execute_input": "2023-05-04T17:12:51.147209Z",
     "iopub.status.busy": "2023-05-04T17:12:51.146369Z",
     "iopub.status.idle": "2023-05-04T17:12:51.171553Z",
     "shell.execute_reply": "2023-05-04T17:12:51.170758Z"
    },
    "jupyter": {
     "outputs_hidden": true
    },
    "papermill": {
     "duration": 0.051398,
     "end_time": "2023-05-04T17:12:51.173627",
     "exception": false,
     "start_time": "2023-05-04T17:12:51.122229",
     "status": "completed"
    },
    "scrolled": true,
    "tags": []
   },
   "outputs": [
    {
     "data": {
      "text/html": [
       "<div>\n",
       "<style scoped>\n",
       "    .dataframe tbody tr th:only-of-type {\n",
       "        vertical-align: middle;\n",
       "    }\n",
       "\n",
       "    .dataframe tbody tr th {\n",
       "        vertical-align: top;\n",
       "    }\n",
       "\n",
       "    .dataframe thead th {\n",
       "        text-align: right;\n",
       "    }\n",
       "</style>\n",
       "<table border=\"1\" class=\"dataframe\">\n",
       "  <thead>\n",
       "    <tr style=\"text-align: right;\">\n",
       "      <th></th>\n",
       "      <th>age</th>\n",
       "      <th>height</th>\n",
       "      <th>sex</th>\n",
       "      <th>orientation</th>\n",
       "      <th>sex</th>\n",
       "      <th>orientation</th>\n",
       "      <th>body_type_</th>\n",
       "      <th>education_</th>\n",
       "      <th>drinks_</th>\n",
       "      <th>drugs_</th>\n",
       "      <th>smokes_</th>\n",
       "      <th>likes_dogs_</th>\n",
       "      <th>likes_cats_</th>\n",
       "      <th>membership</th>\n",
       "    </tr>\n",
       "  </thead>\n",
       "  <tbody>\n",
       "    <tr>\n",
       "      <th>31343</th>\n",
       "      <td>25</td>\n",
       "      <td>183.0</td>\n",
       "      <td>f</td>\n",
       "      <td>straight</td>\n",
       "      <td>f</td>\n",
       "      <td>straight</td>\n",
       "      <td>mesomorph</td>\n",
       "      <td>College or more</td>\n",
       "      <td>often</td>\n",
       "      <td>sometimes</td>\n",
       "      <td>no</td>\n",
       "      <td>No</td>\n",
       "      <td>No</td>\n",
       "      <td>3</td>\n",
       "    </tr>\n",
       "    <tr>\n",
       "      <th>55767</th>\n",
       "      <td>30</td>\n",
       "      <td>175.0</td>\n",
       "      <td>f</td>\n",
       "      <td>straight</td>\n",
       "      <td>f</td>\n",
       "      <td>straight</td>\n",
       "      <td>mesomorph</td>\n",
       "      <td>College or more</td>\n",
       "      <td>often</td>\n",
       "      <td>sometimes</td>\n",
       "      <td>no</td>\n",
       "      <td>No</td>\n",
       "      <td>No</td>\n",
       "      <td>3</td>\n",
       "    </tr>\n",
       "    <tr>\n",
       "      <th>13776</th>\n",
       "      <td>32</td>\n",
       "      <td>175.0</td>\n",
       "      <td>f</td>\n",
       "      <td>straight</td>\n",
       "      <td>f</td>\n",
       "      <td>straight</td>\n",
       "      <td>mesomorph</td>\n",
       "      <td>College or more</td>\n",
       "      <td>often</td>\n",
       "      <td>sometimes</td>\n",
       "      <td>no</td>\n",
       "      <td>No</td>\n",
       "      <td>No</td>\n",
       "      <td>3</td>\n",
       "    </tr>\n",
       "    <tr>\n",
       "      <th>16932</th>\n",
       "      <td>25</td>\n",
       "      <td>175.0</td>\n",
       "      <td>f</td>\n",
       "      <td>straight</td>\n",
       "      <td>f</td>\n",
       "      <td>straight</td>\n",
       "      <td>mesomorph</td>\n",
       "      <td>College or more</td>\n",
       "      <td>often</td>\n",
       "      <td>sometimes</td>\n",
       "      <td>no</td>\n",
       "      <td>No</td>\n",
       "      <td>No</td>\n",
       "      <td>3</td>\n",
       "    </tr>\n",
       "    <tr>\n",
       "      <th>42326</th>\n",
       "      <td>25</td>\n",
       "      <td>175.0</td>\n",
       "      <td>f</td>\n",
       "      <td>straight</td>\n",
       "      <td>f</td>\n",
       "      <td>straight</td>\n",
       "      <td>mesomorph</td>\n",
       "      <td>College or more</td>\n",
       "      <td>often</td>\n",
       "      <td>sometimes</td>\n",
       "      <td>no</td>\n",
       "      <td>No</td>\n",
       "      <td>No</td>\n",
       "      <td>3</td>\n",
       "    </tr>\n",
       "    <tr>\n",
       "      <th>33695</th>\n",
       "      <td>33</td>\n",
       "      <td>173.0</td>\n",
       "      <td>f</td>\n",
       "      <td>straight</td>\n",
       "      <td>f</td>\n",
       "      <td>straight</td>\n",
       "      <td>mesomorph</td>\n",
       "      <td>College or more</td>\n",
       "      <td>often</td>\n",
       "      <td>sometimes</td>\n",
       "      <td>no</td>\n",
       "      <td>No</td>\n",
       "      <td>No</td>\n",
       "      <td>3</td>\n",
       "    </tr>\n",
       "    <tr>\n",
       "      <th>5879</th>\n",
       "      <td>34</td>\n",
       "      <td>173.0</td>\n",
       "      <td>f</td>\n",
       "      <td>straight</td>\n",
       "      <td>f</td>\n",
       "      <td>straight</td>\n",
       "      <td>mesomorph</td>\n",
       "      <td>College or more</td>\n",
       "      <td>often</td>\n",
       "      <td>sometimes</td>\n",
       "      <td>no</td>\n",
       "      <td>No</td>\n",
       "      <td>No</td>\n",
       "      <td>3</td>\n",
       "    </tr>\n",
       "    <tr>\n",
       "      <th>40510</th>\n",
       "      <td>25</td>\n",
       "      <td>173.0</td>\n",
       "      <td>f</td>\n",
       "      <td>straight</td>\n",
       "      <td>f</td>\n",
       "      <td>straight</td>\n",
       "      <td>mesomorph</td>\n",
       "      <td>College or more</td>\n",
       "      <td>often</td>\n",
       "      <td>sometimes</td>\n",
       "      <td>no</td>\n",
       "      <td>No</td>\n",
       "      <td>No</td>\n",
       "      <td>3</td>\n",
       "    </tr>\n",
       "    <tr>\n",
       "      <th>27386</th>\n",
       "      <td>21</td>\n",
       "      <td>175.0</td>\n",
       "      <td>f</td>\n",
       "      <td>straight</td>\n",
       "      <td>f</td>\n",
       "      <td>straight</td>\n",
       "      <td>mesomorph</td>\n",
       "      <td>College or more</td>\n",
       "      <td>often</td>\n",
       "      <td>sometimes</td>\n",
       "      <td>no</td>\n",
       "      <td>No</td>\n",
       "      <td>No</td>\n",
       "      <td>3</td>\n",
       "    </tr>\n",
       "    <tr>\n",
       "      <th>57489</th>\n",
       "      <td>44</td>\n",
       "      <td>178.0</td>\n",
       "      <td>f</td>\n",
       "      <td>straight</td>\n",
       "      <td>f</td>\n",
       "      <td>straight</td>\n",
       "      <td>mesomorph</td>\n",
       "      <td>College or more</td>\n",
       "      <td>often</td>\n",
       "      <td>sometimes</td>\n",
       "      <td>no</td>\n",
       "      <td>No</td>\n",
       "      <td>No</td>\n",
       "      <td>3</td>\n",
       "    </tr>\n",
       "  </tbody>\n",
       "</table>\n",
       "</div>"
      ],
      "text/plain": [
       "       age  height sex orientation sex orientation body_type_  \\\n",
       "31343   25   183.0   f    straight   f    straight  mesomorph   \n",
       "55767   30   175.0   f    straight   f    straight  mesomorph   \n",
       "13776   32   175.0   f    straight   f    straight  mesomorph   \n",
       "16932   25   175.0   f    straight   f    straight  mesomorph   \n",
       "42326   25   175.0   f    straight   f    straight  mesomorph   \n",
       "33695   33   173.0   f    straight   f    straight  mesomorph   \n",
       "5879    34   173.0   f    straight   f    straight  mesomorph   \n",
       "40510   25   173.0   f    straight   f    straight  mesomorph   \n",
       "27386   21   175.0   f    straight   f    straight  mesomorph   \n",
       "57489   44   178.0   f    straight   f    straight  mesomorph   \n",
       "\n",
       "            education_ drinks_     drugs_ smokes_ likes_dogs_ likes_cats_  \\\n",
       "31343  College or more   often  sometimes      no          No          No   \n",
       "55767  College or more   often  sometimes      no          No          No   \n",
       "13776  College or more   often  sometimes      no          No          No   \n",
       "16932  College or more   often  sometimes      no          No          No   \n",
       "42326  College or more   often  sometimes      no          No          No   \n",
       "33695  College or more   often  sometimes      no          No          No   \n",
       "5879   College or more   often  sometimes      no          No          No   \n",
       "40510  College or more   often  sometimes      no          No          No   \n",
       "27386  College or more   often  sometimes      no          No          No   \n",
       "57489  College or more   often  sometimes      no          No          No   \n",
       "\n",
       "       membership  \n",
       "31343           3  \n",
       "55767           3  \n",
       "13776           3  \n",
       "16932           3  \n",
       "42326           3  \n",
       "33695           3  \n",
       "5879            3  \n",
       "40510           3  \n",
       "27386           3  \n",
       "57489           3  "
      ]
     },
     "execution_count": 47,
     "metadata": {},
     "output_type": "execute_result"
    }
   ],
   "source": [
    "df.loc[distances.index, features].head(10)"
   ]
  },
  {
   "cell_type": "markdown",
   "id": "b386232b",
   "metadata": {
    "papermill": {
     "duration": 0.023127,
     "end_time": "2023-05-04T17:12:51.220205",
     "exception": false,
     "start_time": "2023-05-04T17:12:51.197078",
     "status": "completed"
    },
    "tags": []
   },
   "source": [
    "We can see that the the features are pretty similar."
   ]
  },
  {
   "cell_type": "markdown",
   "id": "5e7dbc62",
   "metadata": {
    "papermill": {
     "duration": 0.022969,
     "end_time": "2023-05-04T17:12:51.266444",
     "exception": false,
     "start_time": "2023-05-04T17:12:51.243475",
     "status": "completed"
    },
    "tags": []
   },
   "source": [
    "### Affinity\n",
    "\n",
    "We can calculate affinity (similarity) with this [formula](https://scikit-learn.org/stable/modules/metrics.html):\n",
    "\n",
    "S = np.exp(-D * gamma), where D is the distance between the two data points, and gamma is 1 / num_features."
   ]
  },
  {
   "cell_type": "code",
   "execution_count": 48,
   "id": "f10fe11f",
   "metadata": {
    "execution": {
     "iopub.execute_input": "2023-05-04T17:12:51.315859Z",
     "iopub.status.busy": "2023-05-04T17:12:51.314815Z",
     "iopub.status.idle": "2023-05-04T17:12:51.320050Z",
     "shell.execute_reply": "2023-05-04T17:12:51.319004Z"
    },
    "papermill": {
     "duration": 0.031837,
     "end_time": "2023-05-04T17:12:51.322050",
     "exception": false,
     "start_time": "2023-05-04T17:12:51.290213",
     "status": "completed"
    },
    "tags": []
   },
   "outputs": [],
   "source": [
    "gamma = 1 /(len(features))"
   ]
  },
  {
   "cell_type": "markdown",
   "id": "12140b1e",
   "metadata": {
    "papermill": {
     "duration": 0.023369,
     "end_time": "2023-05-04T17:12:51.369421",
     "exception": false,
     "start_time": "2023-05-04T17:12:51.346052",
     "status": "completed"
    },
    "tags": []
   },
   "source": [
    "And now we can print the top ten choices for the user 42 with a similarity score:"
   ]
  },
  {
   "cell_type": "code",
   "execution_count": 49,
   "id": "46e0fbac",
   "metadata": {
    "execution": {
     "iopub.execute_input": "2023-05-04T17:12:51.418480Z",
     "iopub.status.busy": "2023-05-04T17:12:51.417877Z",
     "iopub.status.idle": "2023-05-04T17:12:51.434058Z",
     "shell.execute_reply": "2023-05-04T17:12:51.433158Z"
    },
    "papermill": {
     "duration": 0.042878,
     "end_time": "2023-05-04T17:12:51.435933",
     "exception": false,
     "start_time": "2023-05-04T17:12:51.393055",
     "status": "completed"
    },
    "tags": []
   },
   "outputs": [
    {
     "name": "stdout",
     "output_type": "stream",
     "text": [
      "Top ten users by affinity with user_id = 42\n"
     ]
    },
    {
     "data": {
      "text/html": [
       "<div>\n",
       "<style scoped>\n",
       "    .dataframe tbody tr th:only-of-type {\n",
       "        vertical-align: middle;\n",
       "    }\n",
       "\n",
       "    .dataframe tbody tr th {\n",
       "        vertical-align: top;\n",
       "    }\n",
       "\n",
       "    .dataframe thead th {\n",
       "        text-align: right;\n",
       "    }\n",
       "</style>\n",
       "<table border=\"1\" class=\"dataframe\">\n",
       "  <thead>\n",
       "    <tr style=\"text-align: right;\">\n",
       "      <th></th>\n",
       "      <th>affinity</th>\n",
       "    </tr>\n",
       "    <tr>\n",
       "      <th>user_id</th>\n",
       "      <th></th>\n",
       "    </tr>\n",
       "  </thead>\n",
       "  <tbody>\n",
       "    <tr>\n",
       "      <th>31343</th>\n",
       "      <td>94.0</td>\n",
       "    </tr>\n",
       "    <tr>\n",
       "      <th>55767</th>\n",
       "      <td>89.9</td>\n",
       "    </tr>\n",
       "    <tr>\n",
       "      <th>13776</th>\n",
       "      <td>89.8</td>\n",
       "    </tr>\n",
       "    <tr>\n",
       "      <th>16932</th>\n",
       "      <td>89.4</td>\n",
       "    </tr>\n",
       "    <tr>\n",
       "      <th>42326</th>\n",
       "      <td>89.4</td>\n",
       "    </tr>\n",
       "    <tr>\n",
       "      <th>33695</th>\n",
       "      <td>88.5</td>\n",
       "    </tr>\n",
       "    <tr>\n",
       "      <th>5879</th>\n",
       "      <td>88.3</td>\n",
       "    </tr>\n",
       "    <tr>\n",
       "      <th>40510</th>\n",
       "      <td>88.2</td>\n",
       "    </tr>\n",
       "    <tr>\n",
       "      <th>27386</th>\n",
       "      <td>88.2</td>\n",
       "    </tr>\n",
       "    <tr>\n",
       "      <th>57489</th>\n",
       "      <td>87.3</td>\n",
       "    </tr>\n",
       "  </tbody>\n",
       "</table>\n",
       "</div>"
      ],
      "text/plain": [
       "         affinity\n",
       "user_id          \n",
       "31343        94.0\n",
       "55767        89.9\n",
       "13776        89.8\n",
       "16932        89.4\n",
       "42326        89.4\n",
       "33695        88.5\n",
       "5879         88.3\n",
       "40510        88.2\n",
       "27386        88.2\n",
       "57489        87.3"
      ]
     },
     "execution_count": 49,
     "metadata": {},
     "output_type": "execute_result"
    }
   ],
   "source": [
    "S = pd.DataFrame(distances.apply(lambda x: round(np.exp(-x * gamma)*100,1)).rename('affinity'))\n",
    "S.rename_axis('user_id', inplace=True)\n",
    "print('Top ten users by affinity with user_id = 42')\n",
    "S.head(10)"
   ]
  }
 ],
 "metadata": {
  "kernelspec": {
   "display_name": "Python 3",
   "language": "python",
   "name": "python3"
  },
  "language_info": {
   "codemirror_mode": {
    "name": "ipython",
    "version": 3
   },
   "file_extension": ".py",
   "mimetype": "text/x-python",
   "name": "python",
   "nbconvert_exporter": "python",
   "pygments_lexer": "ipython3",
   "version": "3.9.0"
  },
  "papermill": {
   "default_parameters": {},
   "duration": 32.775324,
   "end_time": "2023-05-04T17:12:52.481999",
   "environment_variables": {},
   "exception": null,
   "input_path": "__notebook__.ipynb",
   "output_path": "__notebook__.ipynb",
   "parameters": {},
   "start_time": "2023-05-04T17:12:19.706675",
   "version": "2.4.0"
  }
 },
 "nbformat": 4,
 "nbformat_minor": 5
}
